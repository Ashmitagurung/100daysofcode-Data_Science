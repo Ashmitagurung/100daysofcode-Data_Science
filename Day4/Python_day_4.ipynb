{
  "nbformat": 4,
  "nbformat_minor": 0,
  "metadata": {
    "colab": {
      "provenance": []
    },
    "kernelspec": {
      "name": "python3",
      "display_name": "Python 3"
    },
    "language_info": {
      "name": "python"
    }
  },
  "cells": [
    {
      "cell_type": "markdown",
      "source": [
        "Objects and Classes in python"
      ],
      "metadata": {
        "id": "2F5JLaLNG0pJ"
      }
    },
    {
      "cell_type": "markdown",
      "source": [
        "classes - A class is a blueprint or a template for creating objects."
      ],
      "metadata": {
        "id": "SbnrD0dXG77g"
      }
    },
    {
      "cell_type": "markdown",
      "source": [
        "Objects - An objects is called an instance of a class.\n",
        "\n",
        "For eg: Car is a class. So, we take Car1, Car2 as objects."
      ],
      "metadata": {
        "id": "kSD1ZcU-HTSA"
      }
    },
    {
      "cell_type": "code",
      "source": [
        "# Class\n",
        "\n",
        "class class_name:\n",
        "  pass   #statements"
      ],
      "metadata": {
        "id": "mXja5tIMKu74"
      },
      "execution_count": 9,
      "outputs": []
    },
    {
      "cell_type": "code",
      "source": [
        "# Creating an objects\n",
        "\n",
        "# <object-name> = <class-name>(<arguments>)"
      ],
      "metadata": {
        "id": "9aEq6twiK42q"
      },
      "execution_count": 11,
      "outputs": []
    },
    {
      "cell_type": "code",
      "source": [
        "# name of the class\n",
        "\n",
        "class Car:\n",
        "  name = ''  #defning class\n",
        "  gear = 0"
      ],
      "metadata": {
        "id": "r9HlYgBvHDc4"
      },
      "execution_count": 1,
      "outputs": []
    },
    {
      "cell_type": "code",
      "source": [
        "# Create class\n",
        "\n",
        "class Car:\n",
        "  name = ''\n",
        "  gear = 0\n",
        "\n",
        "#create objects of a class\n",
        "Car1 = Car()"
      ],
      "metadata": {
        "id": "mzpko1ZFHNUY"
      },
      "execution_count": 2,
      "outputs": []
    },
    {
      "cell_type": "code",
      "source": [
        "# define a class\n",
        "class Car:\n",
        "  name = ''\n",
        "  gear = 0\n",
        "\n",
        "#Create object of class\n",
        "Car1 = Car()\n",
        "\n",
        "#access attributes and assign new values\n",
        "Car1.gear = 11\n",
        "Car1.name = \"Mountain Bike\"\n",
        "\n",
        "print(f\"Name:  {Car1.name}, Gears: {Car1.gear}\")"
      ],
      "metadata": {
        "colab": {
          "base_uri": "https://localhost:8080/"
        },
        "id": "WUM7EAt_H0UU",
        "outputId": "8a85395f-3f4e-4852-9dcf-f8abf3bd3ec4"
      },
      "execution_count": 3,
      "outputs": [
        {
          "output_type": "stream",
          "name": "stdout",
          "text": [
            "Name:  Mountain Bike, Gears: 11\n"
          ]
        }
      ]
    },
    {
      "cell_type": "markdown",
      "source": [
        "Python Constructors"
      ],
      "metadata": {
        "id": "d-w31ZYMIZHj"
      }
    },
    {
      "cell_type": "markdown",
      "source": [
        "Constructors is the special function of the class which is used to initialize the objects.  "
      ],
      "metadata": {
        "id": "v9ZiXPSOLI3w"
      }
    },
    {
      "cell_type": "code",
      "source": [
        "class name:\n",
        "\n",
        "  #Default constructor\n",
        "  def __init__(self):\n",
        "    self.name = \"Ashmita\"\n",
        "\n",
        "  # A method for printing data members\n",
        "  def print_me(self):\n",
        "    print(self.name)"
      ],
      "metadata": {
        "id": "YpuSVcYlLcT0"
      },
      "execution_count": 12,
      "outputs": []
    },
    {
      "cell_type": "code",
      "source": [
        "class person:\n",
        "  def __init__(self, name, age):\n",
        "    self.name = name\n",
        "    self.age = age\n",
        "\n",
        "person1 = person(\"Ashmita\", 20)   #Creating a person object\n",
        "print(f\"Name : {person1.name}\")\n",
        "print(f\"Age : {person1.age}\")\n"
      ],
      "metadata": {
        "colab": {
          "base_uri": "https://localhost:8080/"
        },
        "id": "BS3CPWj4IbyX",
        "outputId": "dbf2fd25-3abd-4298-d7df-76d386bb9283"
      },
      "execution_count": 4,
      "outputs": [
        {
          "output_type": "stream",
          "name": "stdout",
          "text": [
            "Name : Ashmita\n",
            "Age : 20\n"
          ]
        }
      ]
    },
    {
      "cell_type": "markdown",
      "source": [
        "Destructor"
      ],
      "metadata": {
        "id": "Ms6Tm4xTJBgJ"
      }
    },
    {
      "cell_type": "code",
      "source": [
        "class MyClass:\n",
        "  def __init__(self, name):\n",
        "    self.name = name\n",
        "\n",
        "  def __del__(self):\n",
        "    print(f\"{self.name} is being destroyed\")\n",
        "\n",
        "#Creating objects\n",
        "obj1 = MyClass(\"Object 1\")\n",
        "obj2 = MyClass(\"Object 2\")\n",
        "\n",
        "#Deleting references to objects\n",
        "del obj1\n",
        "del obj2\n",
        "\n"
      ],
      "metadata": {
        "colab": {
          "base_uri": "https://localhost:8080/"
        },
        "id": "MyMV2k1rJDOe",
        "outputId": "19435c36-878e-4b1e-8c9c-3b1852559028"
      },
      "execution_count": 5,
      "outputs": [
        {
          "output_type": "stream",
          "name": "stdout",
          "text": [
            "Object 1 is being destroyed\n",
            "Object 2 is being destroyed\n"
          ]
        }
      ]
    },
    {
      "cell_type": "markdown",
      "source": [
        "Class and Static Variable"
      ],
      "metadata": {
        "id": "KfqyKo7iJ0cA"
      }
    },
    {
      "cell_type": "code",
      "source": [
        "# Class and Static Variables:\n",
        "\n",
        "class Voter:\n",
        "  #Class variable for voting age\n",
        "  voting_age = 18\n",
        "\n",
        "  #Class variabe to keep of the total number of voters\n",
        "  num_voters = 0"
      ],
      "metadata": {
        "id": "ps-kMB99J3VZ"
      },
      "execution_count": 6,
      "outputs": []
    },
    {
      "cell_type": "code",
      "source": [
        "#Class and Static Methods:\n",
        "class Voter:\n",
        "    voting_age = 18\n",
        "    num_voters = 0\n",
        "\n",
        "    def __init__(self, age):\n",
        "        self.age = age\n",
        "        Voter.num_voters += 1\n",
        "\n",
        "    @staticmethod\n",
        "    def is_eligible(age):\n",
        "        return age >= Voter.voting_age\n",
        "\n",
        "    @classmethod\n",
        "    def get_total_voters(cls):\n",
        "        return cls.num_voters\n",
        "\n",
        "    def check_eligibility(self):\n",
        "        if Voter.is_eligible(self.age):\n",
        "            print(f\"You are eligible to vote at age {self.age}.\")\n",
        "        else:\n",
        "            print(f\"Sorry, you are not eligible to vote at age {self.age}.\")\n",
        "\n",
        "\n",
        "# Create voter instances\n",
        "voter1 = Voter(20)\n",
        "voter2 = Voter(16)\n",
        "voter3 = Voter(25)\n",
        "\n",
        "# Check eligibility and total voters\n",
        "voter1.check_eligibility()  # Output: You are eligible to vote at age 20.\n",
        "voter2.check_eligibility()  # Output: Sorry, you are not eligible to vote at age 16.\n",
        "voter3.check_eligibility()  # Output: You are eligible to vote at age 25.\n",
        "print(f\"Total voters: {Voter.get_total_voters()}\")  # Output: Total voters: 3\n"
      ],
      "metadata": {
        "colab": {
          "base_uri": "https://localhost:8080/"
        },
        "id": "Rx9a3MFZKKHk",
        "outputId": "6b99e1ac-e8dd-4d26-ecf4-08fe9d651c41"
      },
      "execution_count": 8,
      "outputs": [
        {
          "output_type": "stream",
          "name": "stdout",
          "text": [
            "You are eligible to vote at age 20.\n",
            "Sorry, you are not eligible to vote at age 16.\n",
            "You are eligible to vote at age 25.\n",
            "Total voters: 3\n"
          ]
        }
      ]
    },
    {
      "cell_type": "code",
      "source": [],
      "metadata": {
        "id": "IUY3BdECKbKZ"
      },
      "execution_count": null,
      "outputs": []
    },
    {
      "cell_type": "markdown",
      "source": [],
      "metadata": {
        "id": "wkheVdRvMAH4"
      }
    }
  ]
}