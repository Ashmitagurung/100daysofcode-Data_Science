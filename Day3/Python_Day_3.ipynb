{
  "nbformat": 4,
  "nbformat_minor": 0,
  "metadata": {
    "colab": {
      "provenance": []
    },
    "kernelspec": {
      "name": "python3",
      "display_name": "Python 3"
    },
    "language_info": {
      "name": "python"
    }
  },
  "cells": [
    {
      "cell_type": "markdown",
      "source": [
        "Day3 of Python"
      ],
      "metadata": {
        "id": "NyBjPonXd8Hr"
      }
    },
    {
      "cell_type": "markdown",
      "source": [
        "Functions , Recursion , Lambda Functions"
      ],
      "metadata": {
        "id": "Xb0-4cGClDDk"
      }
    },
    {
      "cell_type": "markdown",
      "source": [
        "Functions- A function is a block of code that performs a specific tasks. You can pass parameters into a function. It helps us to make our code more organized and manageable"
      ],
      "metadata": {
        "id": "DVg6wYcBTKZR"
      }
    },
    {
      "cell_type": "code",
      "source": [
        "# def my_function():\n",
        "#           #statements"
      ],
      "metadata": {
        "id": "RgZ_IX6UTbmg"
      },
      "execution_count": 1,
      "outputs": []
    },
    {
      "cell_type": "markdown",
      "source": [
        "Function Definition"
      ],
      "metadata": {
        "id": "5RRzPkRRTeY5"
      }
    },
    {
      "cell_type": "markdown",
      "source": [
        "Function Call\n",
        "\n",
        "my_function()"
      ],
      "metadata": {
        "id": "QqUbbakFUH3x"
      }
    },
    {
      "cell_type": "code",
      "source": [
        "def add():\n",
        "  a = 10\n",
        "  b =20\n",
        "  print(a+b)\n",
        "add()"
      ],
      "metadata": {
        "colab": {
          "base_uri": "https://localhost:8080/"
        },
        "id": "FHi4UQ3oTlEu",
        "outputId": "cf56e238-d632-4a7d-df88-5d5c16814bcc"
      },
      "execution_count": 2,
      "outputs": [
        {
          "output_type": "stream",
          "name": "stdout",
          "text": [
            "30\n"
          ]
        }
      ]
    },
    {
      "cell_type": "markdown",
      "source": [
        "Return statement in Python function\n",
        "- The function return statement return the specified value or data item to the caller."
      ],
      "metadata": {
        "id": "P2ILScYhUWvJ"
      }
    },
    {
      "cell_type": "code",
      "source": [
        "# return [value/expression]"
      ],
      "metadata": {
        "id": "o3JFaPNDUFPq"
      },
      "execution_count": 3,
      "outputs": []
    },
    {
      "cell_type": "markdown",
      "source": [
        "Arguments in python function\n",
        "<!--\n",
        "def my_function(arg1,arg2,arg3....argn):\n",
        "          #statements\n",
        "my_function(arg1,arg2,arg3....argn) -->\n"
      ],
      "metadata": {
        "id": "VumMBXByUjnt"
      }
    },
    {
      "cell_type": "code",
      "source": [
        "#Function along Parameter\n",
        "def add(a,b):\n",
        "  return a + b\n",
        "x = add(8,7)\n",
        "print(x)"
      ],
      "metadata": {
        "colab": {
          "base_uri": "https://localhost:8080/"
        },
        "id": "u_wb4K98UpE4",
        "outputId": "9d22fefc-97d1-44a5-a697-1a69da50ca8b"
      },
      "execution_count": 4,
      "outputs": [
        {
          "output_type": "stream",
          "name": "stdout",
          "text": [
            "15\n"
          ]
        }
      ]
    },
    {
      "cell_type": "code",
      "source": [
        "#User defined function\n",
        "def hello():\n",
        "  print('hello world')\n",
        "hello()   #function calling"
      ],
      "metadata": {
        "colab": {
          "base_uri": "https://localhost:8080/"
        },
        "id": "OIBoXl5-UyCc",
        "outputId": "8f0455a0-bca3-4d43-dd47-9c70b02d0075"
      },
      "execution_count": 5,
      "outputs": [
        {
          "output_type": "stream",
          "name": "stdout",
          "text": [
            "hello world\n"
          ]
        }
      ]
    },
    {
      "cell_type": "code",
      "source": [
        "#Function return type\n",
        "def find_square(num):\n",
        "    result = num * num\n",
        "    return result\n",
        "\n",
        "#calling function\n",
        "square = find_square(10)\n",
        "\n",
        "print('square',square)"
      ],
      "metadata": {
        "colab": {
          "base_uri": "https://localhost:8080/"
        },
        "id": "aVQWZwCjVkyw",
        "outputId": "d4a17a4e-083e-45c5-9563-dc8fa28546e3"
      },
      "execution_count": 6,
      "outputs": [
        {
          "output_type": "stream",
          "name": "stdout",
          "text": [
            "square 100\n"
          ]
        }
      ]
    },
    {
      "cell_type": "markdown",
      "source": [
        "Type of Function"
      ],
      "metadata": {
        "id": "FPP0T0VTbaHZ"
      }
    },
    {
      "cell_type": "markdown",
      "source": [
        "1. Default Arguments"
      ],
      "metadata": {
        "id": "u-sm5IPgbodJ"
      }
    },
    {
      "cell_type": "code",
      "source": [
        "def add_numbers(a = 70, b = 40):\n",
        "  sum = a + b\n",
        "  print('sum', sum)\n",
        "\n",
        "#two arguments\n",
        "add_numbers(3, 5)\n",
        "\n",
        "#three arguments\n",
        "add_numbers()"
      ],
      "metadata": {
        "colab": {
          "base_uri": "https://localhost:8080/"
        },
        "id": "-SH9-L3_bq3M",
        "outputId": "2f5d3ff8-14eb-41b1-b102-b965d62f18ac"
      },
      "execution_count": 8,
      "outputs": [
        {
          "output_type": "stream",
          "name": "stdout",
          "text": [
            "sum 8\n",
            "sum 110\n"
          ]
        }
      ]
    },
    {
      "cell_type": "markdown",
      "source": [
        "2. Keyboard Arguments"
      ],
      "metadata": {
        "id": "gOajLhRqcCt8"
      }
    },
    {
      "cell_type": "code",
      "source": [
        "def show(first_name, last_name):\n",
        "  print(\"first name:\", first_name)\n",
        "  print(\"Last name:\", last_name)\n",
        "\n",
        "show(last_name = \"Gurung\", first_name = \"Ashmita\")"
      ],
      "metadata": {
        "colab": {
          "base_uri": "https://localhost:8080/"
        },
        "id": "Gqie86UscF30",
        "outputId": "8d433445-82c7-4148-bee8-9ff58fa80163"
      },
      "execution_count": 10,
      "outputs": [
        {
          "output_type": "stream",
          "name": "stdout",
          "text": [
            "first name: Ashmita\n",
            "Last name: Gurung\n"
          ]
        }
      ]
    },
    {
      "cell_type": "markdown",
      "source": [
        "3. Positional Arguments"
      ],
      "metadata": {
        "id": "4WkVyb4icleQ"
      }
    },
    {
      "cell_type": "code",
      "source": [
        "def prints(age, name):\n",
        "  print(age, name)\n",
        "\n",
        "prints(\"Ashmita\",21)\n",
        "prints(21,\"Ashmita\")"
      ],
      "metadata": {
        "colab": {
          "base_uri": "https://localhost:8080/"
        },
        "id": "jqmFHYy_coq2",
        "outputId": "0b1c8875-5fff-44b6-c49a-cc5f60d80dd0"
      },
      "execution_count": 12,
      "outputs": [
        {
          "output_type": "stream",
          "name": "stdout",
          "text": [
            "Ashmita 21\n",
            "21 Ashmita\n"
          ]
        }
      ]
    },
    {
      "cell_type": "markdown",
      "source": [
        "4. Arbitraty Arguments"
      ],
      "metadata": {
        "id": "AHf58e3kc_Dj"
      }
    },
    {
      "cell_type": "markdown",
      "source": [],
      "metadata": {
        "id": "vt6xP0ZLc88P"
      }
    },
    {
      "cell_type": "code",
      "source": [
        "#find sum of multiple numbers\n",
        "def find_sum(*numbers):\n",
        "  result = 0\n",
        "  for num in numbers:\n",
        "    result = result + num\n",
        "  print(\"Sum = \", result)\n",
        "\n",
        "find_sum(1, 2, 4)"
      ],
      "metadata": {
        "colab": {
          "base_uri": "https://localhost:8080/"
        },
        "id": "prHyqJbXc9ms",
        "outputId": "bf40296a-2588-45e1-f3ae-160859fccb36"
      },
      "execution_count": 15,
      "outputs": [
        {
          "output_type": "stream",
          "name": "stdout",
          "text": [
            "Sum =  7\n"
          ]
        }
      ]
    },
    {
      "cell_type": "markdown",
      "source": [
        "**Python Recursion**\n",
        "Recursion is the process of defining something in terms of itself.\n"
      ],
      "metadata": {
        "id": "ksslbCXJdjR3"
      }
    },
    {
      "cell_type": "code",
      "source": [
        "def factorial(x):\n",
        "  if x==1:\n",
        "    return 1\n",
        "  else:\n",
        "    return (x*factorial(x-1))\n",
        "\n",
        "x = int(input(\"enter the num:\"))\n",
        "print(\"The factorial is \", factorial(x))"
      ],
      "metadata": {
        "colab": {
          "base_uri": "https://localhost:8080/"
        },
        "id": "D2WqBe5Gc9rc",
        "outputId": "3721d7dc-8745-4186-d276-cc370dd3bc62"
      },
      "execution_count": 16,
      "outputs": [
        {
          "output_type": "stream",
          "name": "stdout",
          "text": [
            "enter the num:4\n",
            "The factorial is  24\n"
          ]
        }
      ]
    },
    {
      "cell_type": "code",
      "source": [
        "#Python Recursive pattern\n",
        "\n",
        "def row(n):\n",
        "  if n<1:\n",
        "    return\n",
        "  print(\"*\",end=\" \")\n",
        "  row(n-1)\n",
        "\n",
        "def pattern(n):\n",
        "  if n<1:\n",
        "    return\n",
        "  row(n)\n",
        "  print('')\n",
        "  pattern(n-1)\n",
        "\n",
        "n = 10\n",
        "pattern(n)"
      ],
      "metadata": {
        "colab": {
          "base_uri": "https://localhost:8080/"
        },
        "id": "aIuUBxQhc9t4",
        "outputId": "dc4f31e6-b6fc-4b2b-cef8-89dcc2c1b997"
      },
      "execution_count": 19,
      "outputs": [
        {
          "output_type": "stream",
          "name": "stdout",
          "text": [
            "* * * * * * * * * * \n",
            "* * * * * * * * * \n",
            "* * * * * * * * \n",
            "* * * * * * * \n",
            "* * * * * * \n",
            "* * * * * \n",
            "* * * * \n",
            "* * * \n",
            "* * \n",
            "* \n"
          ]
        }
      ]
    },
    {
      "cell_type": "markdown",
      "source": [
        "**Modules**\n",
        "There are two types of modules:\n",
        "1. Built-in Modules\n",
        "2. User-defined Modules"
      ],
      "metadata": {
        "id": "yXibpIDVe-yL"
      }
    },
    {
      "cell_type": "markdown",
      "source": [],
      "metadata": {
        "id": "V5NNJnthc6cJ"
      }
    },
    {
      "cell_type": "markdown",
      "source": [
        "MATH Function"
      ],
      "metadata": {
        "id": "-KRfnU1gfRZa"
      }
    },
    {
      "cell_type": "markdown",
      "source": [],
      "metadata": {
        "id": "wj693GOJfNaj"
      }
    },
    {
      "cell_type": "code",
      "source": [
        "import math\n",
        "\n",
        "#Calculate the square root of a number\n",
        "\n",
        "num = 40\n",
        "sqrt_num = math.sqrt(num)\n",
        "print(f\"The square root of {num} is {sqrt_num}\")"
      ],
      "metadata": {
        "colab": {
          "base_uri": "https://localhost:8080/"
        },
        "id": "76dCX8sTfOIU",
        "outputId": "a484918b-7777-48dc-e087-5b1da5859389"
      },
      "execution_count": 20,
      "outputs": [
        {
          "output_type": "stream",
          "name": "stdout",
          "text": [
            "The square root of 40 is 6.324555320336759\n"
          ]
        }
      ]
    },
    {
      "cell_type": "code",
      "source": [
        "# Calculate the factorial of a number\n",
        "\n",
        "num = 3\n",
        "fact_num = math.factorial(num)\n",
        "print(f\"The factorial of a {num} is {fact_num}\")"
      ],
      "metadata": {
        "colab": {
          "base_uri": "https://localhost:8080/"
        },
        "id": "FWAjDfDRfPJn",
        "outputId": "3fe1168c-feb2-43fd-fbe9-6e796faa911e"
      },
      "execution_count": 21,
      "outputs": [
        {
          "output_type": "stream",
          "name": "stdout",
          "text": [
            "The factorial of a 3 is 6\n"
          ]
        }
      ]
    },
    {
      "cell_type": "code",
      "source": [
        "#Calculate the value of pi\n",
        "\n",
        "pi_value = math.pi\n",
        "print(f\"The value of pi is approximately {pi_value}\")"
      ],
      "metadata": {
        "colab": {
          "base_uri": "https://localhost:8080/"
        },
        "id": "TUOZmR2PfPND",
        "outputId": "8f46c3e4-f355-46e2-e88b-3703e573619d"
      },
      "execution_count": 22,
      "outputs": [
        {
          "output_type": "stream",
          "name": "stdout",
          "text": [
            "The value of pi is approximately 3.141592653589793\n"
          ]
        }
      ]
    },
    {
      "cell_type": "code",
      "source": [
        "#Calculate the sine of an angle in radians\n",
        "\n",
        "angle_rad = math.radians(30)   #Convert 30 degrees to radians\n",
        "sin_val = math.sin(angle_rad)\n",
        "print(f\"The sine of 30 degrees is {sin_val}\")"
      ],
      "metadata": {
        "colab": {
          "base_uri": "https://localhost:8080/"
        },
        "id": "l1w8H6XDgNFP",
        "outputId": "ee43c5fa-7d23-467b-bf80-4e7d75a087e1"
      },
      "execution_count": 23,
      "outputs": [
        {
          "output_type": "stream",
          "name": "stdout",
          "text": [
            "The sine of 30 degrees is 0.49999999999999994\n"
          ]
        }
      ]
    },
    {
      "cell_type": "code",
      "source": [
        "# Calculate the power of a number\n",
        "\n",
        "base = 4\n",
        "exponent = 3\n",
        "power_result = math.pow(base, exponent)\n",
        "print(f\"{base} raised to the power of {exponent} is {power_result}\")"
      ],
      "metadata": {
        "colab": {
          "base_uri": "https://localhost:8080/"
        },
        "id": "bcXHq3-NgnrX",
        "outputId": "cdaac31a-467d-409a-b3a8-375eb13e83aa"
      },
      "execution_count": 24,
      "outputs": [
        {
          "output_type": "stream",
          "name": "stdout",
          "text": [
            "4 raised to the power of 3 is 64.0\n"
          ]
        }
      ]
    },
    {
      "cell_type": "markdown",
      "source": [
        "DateTime Function"
      ],
      "metadata": {
        "id": "i5CIvqFThCmE"
      }
    },
    {
      "cell_type": "code",
      "source": [
        "import datetime\n",
        "\n",
        "#Get the current date and time\n",
        "current_datetime = datetime.datetime.now()\n",
        "print(f\"current Date and time: {current_datetime}\")"
      ],
      "metadata": {
        "colab": {
          "base_uri": "https://localhost:8080/"
        },
        "id": "CqLBKUWphFbY",
        "outputId": "14ce70a7-3843-4f8d-f5f5-bcb7dbd129ff"
      },
      "execution_count": 25,
      "outputs": [
        {
          "output_type": "stream",
          "name": "stdout",
          "text": [
            "current Date and time: 2024-04-08 02:24:32.787117\n"
          ]
        }
      ]
    },
    {
      "cell_type": "code",
      "source": [
        "# Get the current date\n",
        "\n",
        "current_date = datetime.date.today()\n",
        "print(f\"Current Date: {current_date}\")"
      ],
      "metadata": {
        "colab": {
          "base_uri": "https://localhost:8080/"
        },
        "id": "OPjbBdgShXxb",
        "outputId": "8cf414b9-4c8e-48be-868e-c64a48d6eb29"
      },
      "execution_count": 26,
      "outputs": [
        {
          "output_type": "stream",
          "name": "stdout",
          "text": [
            "Current Date: 2024-04-08\n"
          ]
        }
      ]
    },
    {
      "cell_type": "code",
      "source": [
        "# Create a specific date\n",
        "specific_date = datetime.date(2022, 4, 20)\n",
        "print(f\"Specific Date: {specific_date}\")"
      ],
      "metadata": {
        "colab": {
          "base_uri": "https://localhost:8080/"
        },
        "id": "Uxg9A_SZhoTE",
        "outputId": "6a715093-0f7d-4aa5-d8d0-3b2a3e2a601c"
      },
      "execution_count": 27,
      "outputs": [
        {
          "output_type": "stream",
          "name": "stdout",
          "text": [
            "Specific Date: 2022-04-20\n"
          ]
        }
      ]
    },
    {
      "cell_type": "code",
      "source": [
        "# Access individual components of a datetime object\n",
        "\n",
        "year = current_datetime.year\n",
        "month = current_datetime.month\n",
        "day = current_datetime.day\n",
        "hour = current_datetime.hour\n",
        "minute = current_datetime.minute\n",
        "second = current_datetime.second"
      ],
      "metadata": {
        "id": "y3mnH29Vh3zZ"
      },
      "execution_count": 28,
      "outputs": []
    },
    {
      "cell_type": "code",
      "source": [],
      "metadata": {
        "id": "Q-7uJZgOiW68"
      },
      "execution_count": null,
      "outputs": []
    },
    {
      "cell_type": "markdown",
      "source": [
        "User Defined Fucntion"
      ],
      "metadata": {
        "id": "4HBJjaJKiuvA"
      }
    },
    {
      "cell_type": "code",
      "source": [
        "num1 = int(input(\"Enter the first num: \"))\n",
        "num2 = int(input(\"Enter the second num: \"))\n",
        "\n",
        "print(\"Addition\", num1 + num2)\n",
        "print(\"Subtraction\", num1 - num2)\n",
        "print(\"Multiplication\", num1 * num2)\n",
        "print(\"Division\", num1 / num2)\n"
      ],
      "metadata": {
        "colab": {
          "base_uri": "https://localhost:8080/"
        },
        "id": "V1R8wZm0ixy_",
        "outputId": "bfc4ff90-660f-4d5d-968b-c3e68a6c96f3"
      },
      "execution_count": 29,
      "outputs": [
        {
          "output_type": "stream",
          "name": "stdout",
          "text": [
            "Enter the first num: 50\n",
            "Enter the second num: 20\n",
            "Addition 70\n",
            "Subtraction 30\n",
            "Multiplication 1000\n",
            "Division 2.5\n"
          ]
        }
      ]
    },
    {
      "cell_type": "code",
      "source": [
        "import random\n",
        "\n",
        "#Generate a random integer between 1 and 10 (inclusive)\n",
        "\n",
        "random_num = random.randint(1, 10)\n",
        "print(\"Random Number\", random_num)\n",
        "\n",
        "#Generate a random float between 1 and 10 (inclusive)\n",
        "\n",
        "random_float = random.random()\n",
        "print(\"Random float\", random_float)"
      ],
      "metadata": {
        "colab": {
          "base_uri": "https://localhost:8080/"
        },
        "id": "_-H55GRMjQtw",
        "outputId": "5d738726-f490-40d1-9c94-a4eb91945367"
      },
      "execution_count": 33,
      "outputs": [
        {
          "output_type": "stream",
          "name": "stdout",
          "text": [
            "Random Number 7\n",
            "Random float 0.6350750534086814\n"
          ]
        }
      ]
    },
    {
      "cell_type": "code",
      "source": [
        "import json\n",
        "\n",
        "#Serialize Python dictionary to JSON\n",
        "data = {\"name\" : \"Ashmita\",\"age\" : 21}\n",
        "json_data = json.dumps(data)\n",
        "print(\"JSON Data:\", json_data)"
      ],
      "metadata": {
        "colab": {
          "base_uri": "https://localhost:8080/"
        },
        "id": "NNj91JsLjiB5",
        "outputId": "2c999fdc-5ec8-4682-9b3d-d653b1050849"
      },
      "execution_count": 35,
      "outputs": [
        {
          "output_type": "stream",
          "name": "stdout",
          "text": [
            "JSON Data: {\"name\": \"Ashmita\", \"age\": 21}\n"
          ]
        }
      ]
    },
    {
      "cell_type": "markdown",
      "source": [
        "Variable Scope"
      ],
      "metadata": {
        "id": "XFoQM67LkXQh"
      }
    },
    {
      "cell_type": "code",
      "source": [
        "n, m = 10, 20\n",
        "print(n, m)\n",
        "\n",
        "def func(n):\n",
        "  a = 10\n",
        "  global b\n",
        "  b = 15\n",
        "  print(a, n, b)\n",
        "  print(m)\n",
        "\n",
        "func(n)\n",
        "print(n, m)"
      ],
      "metadata": {
        "colab": {
          "base_uri": "https://localhost:8080/"
        },
        "id": "9LOajazMkY6p",
        "outputId": "99577983-fbd4-427e-a8d7-079c30c233f3"
      },
      "execution_count": 38,
      "outputs": [
        {
          "output_type": "stream",
          "name": "stdout",
          "text": [
            "10 20\n",
            "10 10 15\n",
            "20\n",
            "10 20\n"
          ]
        }
      ]
    },
    {
      "cell_type": "markdown",
      "source": [
        "Lambda Fucntions"
      ],
      "metadata": {
        "id": "aqTl1b8AmGTH"
      }
    },
    {
      "cell_type": "code",
      "source": [],
      "metadata": {
        "id": "HN2xdAd2mIqY"
      },
      "execution_count": null,
      "outputs": []
    },
    {
      "cell_type": "markdown",
      "source": [
        "- A lambda functions is a small anonymous functions.\n",
        "- A lambda function can take any arguments, but can only have one expression."
      ],
      "metadata": {
        "id": "EInGzHTLmM9s"
      }
    },
    {
      "cell_type": "code",
      "source": [
        "#Syntax\n",
        "\n",
        "lambda arguments : expression\n",
        "#The expressions is executed and the result is returned."
      ],
      "metadata": {
        "id": "sVNozL8MmcZg"
      },
      "execution_count": null,
      "outputs": []
    },
    {
      "cell_type": "code",
      "source": [
        "\n",
        "x = lambda a: a + 10\n",
        "print(x(5))"
      ],
      "metadata": {
        "colab": {
          "base_uri": "https://localhost:8080/"
        },
        "id": "kcvQ9amLmjQu",
        "outputId": "8f66edf3-053f-493f-e7d9-e99a1c38f7f6"
      },
      "execution_count": 39,
      "outputs": [
        {
          "output_type": "stream",
          "name": "stdout",
          "text": [
            "15\n"
          ]
        }
      ]
    },
    {
      "cell_type": "code",
      "source": [
        "x = lambda a, b: a * b\n",
        "print(x(5, 6))"
      ],
      "metadata": {
        "colab": {
          "base_uri": "https://localhost:8080/"
        },
        "id": "rcbzyxZdmxPo",
        "outputId": "d9043a8b-fb50-47b1-f876-faff5d586a44"
      },
      "execution_count": 40,
      "outputs": [
        {
          "output_type": "stream",
          "name": "stdout",
          "text": [
            "30\n"
          ]
        }
      ]
    },
    {
      "cell_type": "markdown",
      "source": [
        "**Why Use Lambda Functions?**\n",
        "\n",
        "The power of lambda is better shown when you use them as an anonymous function inside another function.\n",
        "\n",
        "Say you have a function definition that takes one argument, and that argument will be multiplied with an unknown number:"
      ],
      "metadata": {
        "id": "wKWHB0eLnBZm"
      }
    },
    {
      "cell_type": "code",
      "source": [
        "def my_function(n):\n",
        "  return lambda a : a *n"
      ],
      "metadata": {
        "id": "Mv0kwyTmnGDy"
      },
      "execution_count": 41,
      "outputs": []
    },
    {
      "cell_type": "code",
      "source": [
        "def my_function(n):\n",
        "  return lambda a: a * n\n",
        "\n",
        "mydoubler = my_function(5)\n",
        "\n",
        "print(mydoubler(11))"
      ],
      "metadata": {
        "colab": {
          "base_uri": "https://localhost:8080/"
        },
        "id": "nUbo4WnqnLnT",
        "outputId": "00d6d36b-121d-460e-8f53-f59e203506f8"
      },
      "execution_count": 42,
      "outputs": [
        {
          "output_type": "stream",
          "name": "stdout",
          "text": [
            "55\n"
          ]
        }
      ]
    },
    {
      "cell_type": "code",
      "source": [
        "def myfunc(n):\n",
        "  return lambda a : a * n\n",
        "\n",
        "mydoubler = myfunc(2)\n",
        "mytripler = myfunc(3)\n",
        "\n",
        "print(mydoubler(11))\n",
        "print(mytripler(11))"
      ],
      "metadata": {
        "colab": {
          "base_uri": "https://localhost:8080/"
        },
        "id": "k9zIB_NqnaWc",
        "outputId": "40419062-8ad7-4d9c-fa13-8d712da67074"
      },
      "execution_count": 43,
      "outputs": [
        {
          "output_type": "stream",
          "name": "stdout",
          "text": [
            "22\n",
            "33\n"
          ]
        }
      ]
    },
    {
      "cell_type": "code",
      "source": [
        "sum = lambda a, b: a + b\n",
        "\n",
        "print(sum(1, 2))\n",
        "print(sum(4, 5))"
      ],
      "metadata": {
        "colab": {
          "base_uri": "https://localhost:8080/"
        },
        "id": "X9uXKJbcnjm2",
        "outputId": "0532133b-170a-40cf-893a-2af312ab91ab"
      },
      "execution_count": 44,
      "outputs": [
        {
          "output_type": "stream",
          "name": "stdout",
          "text": [
            "3\n",
            "9\n"
          ]
        }
      ]
    },
    {
      "cell_type": "code",
      "source": [
        "p = float(input('enter principle:'))\n",
        "t = float(input(\"Enter time:\"))/100.0\n",
        "r = float(input(\"enter rate:\"))\n",
        "\n",
        "A = lambda p,t,r : p*((1+r)**t)\n",
        "A"
      ],
      "metadata": {
        "colab": {
          "base_uri": "https://localhost:8080/"
        },
        "id": "jnjK4em7nxPr",
        "outputId": "4d43e1c3-3aa2-446e-ca9d-f54190e53ca2"
      },
      "execution_count": 50,
      "outputs": [
        {
          "name": "stdout",
          "output_type": "stream",
          "text": [
            "enter principle:3\n",
            "Enter time:5\n",
            "enter rate:7\n"
          ]
        },
        {
          "output_type": "execute_result",
          "data": {
            "text/plain": [
              "<function __main__.<lambda>(p, t, r)>"
            ]
          },
          "metadata": {},
          "execution_count": 50
        }
      ]
    },
    {
      "cell_type": "code",
      "source": [
        "print(A(p,t,r))\n",
        "A=1.0\n",
        "B=6.0\n",
        "C=-5.0\n",
        "p= lambda a,b,c : (-b+((b*b-4*a*c)**(1/2)))/(2*a)\n",
        "r= lambda a,b,c : (-b-((b*b-4*a*c)**(1/2)))/(2*a)\n",
        "print('{:.3f} {:.3f}'.format(p(A,B,C),r(A,B,C)))\n"
      ],
      "metadata": {
        "colab": {
          "base_uri": "https://localhost:8080/"
        },
        "id": "BfgcYas0oJeN",
        "outputId": "1c968c49-4b40-4f99-9327-9bf918d9ca6d"
      },
      "execution_count": 51,
      "outputs": [
        {
          "output_type": "stream",
          "name": "stdout",
          "text": [
            "3.3287084162035354\n",
            "0.742 -6.742\n"
          ]
        }
      ]
    },
    {
      "cell_type": "code",
      "source": [],
      "metadata": {
        "id": "noSxoNUTosDV"
      },
      "execution_count": null,
      "outputs": []
    }
  ]
}