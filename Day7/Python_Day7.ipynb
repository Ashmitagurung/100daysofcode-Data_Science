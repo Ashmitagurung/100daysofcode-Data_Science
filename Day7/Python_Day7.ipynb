{
  "nbformat": 4,
  "nbformat_minor": 0,
  "metadata": {
    "colab": {
      "provenance": []
    },
    "kernelspec": {
      "name": "python3",
      "display_name": "Python 3"
    },
    "language_info": {
      "name": "python"
    }
  },
  "cells": [
    {
      "cell_type": "markdown",
      "source": [
        "**OOPs Concepts**\n",
        "\n",
        "1. Data Abstraction\n",
        "> Hide internal details and show functinalities only.\n",
        "> Abstraction can be achieved by using abstract classes and interfaces.\n",
        "\n",
        "2. Encapsulation\n",
        "\n",
        "> Used to restrict access to methods and variables.\n",
        "> Code and data are wrapped together within a single unit, to prevent from being modified accidently.\n",
        "\n",
        "3. Inheritance\n",
        "\n",
        "> Inheritance is the capability of one class to derive or inherit the properties from another class.\n",
        "> The class that derives properties is called the derived class or child class and the class from which the properties are being derived is called the base class or parent class.\n",
        "> Types of Inheritance:\n",
        "  i. Single Inheritance\n",
        "  ii.Multilevel Inheritance\n",
        "  iii. Hierarchical Inheritance\n",
        "  iv. Multiple Inheritance\n",
        "  v. Hybrid Inheritance\n",
        "\n",
        "4. Polymorphism\n",
        "\n",
        "> Polymorphism simply means having many forms.\n",
        "> Means, declaring methods with same name, but performing different actions."
      ],
      "metadata": {
        "id": "kc41ZFwUekmX"
      }
    },
    {
      "cell_type": "markdown",
      "source": [
        "Encapsulation"
      ],
      "metadata": {
        "id": "gw9wP9qHftW1"
      }
    },
    {
      "cell_type": "code",
      "source": [
        "# Python program to\n",
        "# demonstrate protected members\n",
        "\n",
        "# Creating a base class\n",
        "class Base:\n",
        "    def __init__(self):\n",
        "\n",
        "        # Protected member\n",
        "        self._a = 2\n",
        "\n",
        "# Creating a derived class\n",
        "class Derived(Base):\n",
        "    def __init__(self):\n",
        "\n",
        "        # Calling constructor of\n",
        "        # Base class\n",
        "        Base.__init__(self)\n",
        "        print(\"Calling protected member of base class: \",\n",
        "              self._a)\n",
        "\n",
        "        # Modify the protected variable:\n",
        "        self._a = 3\n",
        "        print(\"Calling modified protected member outside class: \",\n",
        "              self._a)\n",
        "\n",
        "\n",
        "obj1 = Derived()\n",
        "\n",
        "obj2 = Base()\n",
        "\n",
        "# Calling protected member\n",
        "# Can be accessed but should not be done due to convention\n",
        "print(\"Accessing protected member of obj1: \", obj1._a)\n",
        "\n",
        "# Accessing the protected variable outside\n",
        "print(\"Accessing protected member of obj2: \", obj2._a)\n",
        "\n",
        "\n"
      ],
      "metadata": {
        "colab": {
          "base_uri": "https://localhost:8080/"
        },
        "id": "QvqSPQa4fuZ_",
        "outputId": "4fc127c5-389d-420c-bbde-47a7a6b7149b"
      },
      "execution_count": 3,
      "outputs": [
        {
          "output_type": "stream",
          "name": "stdout",
          "text": [
            "Calling protected member of base class:  2\n",
            "Calling modified protected member outside class:  3\n",
            "Accessing protected member of obj1:  3\n",
            "Accessing protected member of obj2:  2\n"
          ]
        }
      ]
    },
    {
      "cell_type": "markdown",
      "source": [
        "Abstraction"
      ],
      "metadata": {
        "id": "XEAAEi3Zgn1F"
      }
    },
    {
      "cell_type": "code",
      "source": [
        "# Python program showing\n",
        "# abstract base class work\n",
        "from abc import ABC, abstractmethod\n",
        "\n",
        "\n",
        "class Polygon(ABC):\n",
        "\n",
        "    @abstractmethod\n",
        "    def noofsides(self):\n",
        "        pass\n",
        "\n",
        "\n",
        "class Triangle(Polygon):\n",
        "\n",
        "    # overriding abstract method\n",
        "    def noofsides(self):\n",
        "        print(\"I have 3 sides\")\n",
        "\n",
        "\n",
        "class Pentagon(Polygon):\n",
        "\n",
        "    # overriding abstract method\n",
        "    def noofsides(self):\n",
        "        print(\"I have 5 sides\")\n",
        "\n",
        "\n",
        "class Hexagon(Polygon):\n",
        "\n",
        "    # overriding abstract method\n",
        "    def noofsides(self):\n",
        "        print(\"I have 6 sides\")\n",
        "\n",
        "\n",
        "class Quadrilateral(Polygon):\n",
        "\n",
        "    # overriding abstract method\n",
        "    def noofsides(self):\n",
        "        print(\"I have 4 sides\")\n",
        "\n",
        "\n",
        "# Driver code\n",
        "R = Triangle()\n",
        "R.noofsides()\n",
        "\n",
        "K = Quadrilateral()\n",
        "K.noofsides()\n",
        "\n",
        "R = Pentagon()\n",
        "R.noofsides()\n",
        "\n",
        "K = Hexagon()\n",
        "K.noofsides()"
      ],
      "metadata": {
        "colab": {
          "base_uri": "https://localhost:8080/"
        },
        "id": "b-V6Pmk-gpLI",
        "outputId": "74c2573d-a395-4bb8-ba32-e67e44f96a3a"
      },
      "execution_count": 4,
      "outputs": [
        {
          "output_type": "stream",
          "name": "stdout",
          "text": [
            "I have 3 sides\n",
            "I have 4 sides\n",
            "I have 5 sides\n",
            "I have 6 sides\n"
          ]
        }
      ]
    },
    {
      "cell_type": "markdown",
      "source": [
        "Inheritance"
      ],
      "metadata": {
        "id": "yJx2yK5lg4j-"
      }
    },
    {
      "cell_type": "markdown",
      "source": [
        "1. Single Inheritance\n"
      ],
      "metadata": {
        "id": "zYl_wXe6g9F3"
      }
    },
    {
      "cell_type": "code",
      "source": [
        "# A Python program to demonstrate inheritance\n",
        "class Person(object):\n",
        "\n",
        "  # Constructor\n",
        "  def __init__(self, name, id):\n",
        "    self.name = name\n",
        "    self.id = id\n",
        "\n",
        "  # To check if this person is an employee\n",
        "  def Display(self):\n",
        "    print(self.name, self.id)\n",
        "\n",
        "\n",
        "# Driver code\n",
        "emp = Person(\"Satyam\", 102) # An Object of Person\n",
        "emp.Display()"
      ],
      "metadata": {
        "colab": {
          "base_uri": "https://localhost:8080/"
        },
        "id": "Sul5Umfbg_Zs",
        "outputId": "4efad204-4cd2-46b2-b6d2-353d4bd5752c"
      },
      "execution_count": 7,
      "outputs": [
        {
          "output_type": "stream",
          "name": "stdout",
          "text": [
            "Satyam 102\n"
          ]
        }
      ]
    },
    {
      "cell_type": "markdown",
      "source": [],
      "metadata": {
        "id": "DpER-H9MhmHL"
      }
    },
    {
      "cell_type": "markdown",
      "source": [
        "<!-- Class BaseClass:\n",
        "    {Body}\n",
        "Class DerivedClass(BaseClass):\n",
        "    {Body} -->"
      ],
      "metadata": {
        "id": "loHoY564hkLQ"
      }
    },
    {
      "cell_type": "markdown",
      "source": [
        "Polymorphism"
      ],
      "metadata": {
        "id": "AInJ4C4Zhz3b"
      }
    },
    {
      "cell_type": "code",
      "source": [
        "class Bird:\n",
        "    def __init__(self, name: str) -> None:\n",
        "        self.name = name\n",
        "    def flight(self) -> None:\n",
        "        print('Birds can fly, but some cannot..')\n",
        "\n",
        "class Sparrow(Bird):\n",
        "    def __init__(self, name: str) -> None:\n",
        "        super().__init__(name)\n",
        "    def flight(self) -> None:\n",
        "        super().flight()\n",
        "        print(self.name, 'can fly..')\n",
        "\n",
        "class Ostrich(Bird):\n",
        "    def __init__(self, name: str) -> None:\n",
        "        super().__init__(name)\n",
        "    def flight(self) -> None:\n",
        "        super().flight()\n",
        "        print(self.name, 'cannot fly..')\n",
        "    def flight(self, name) -> None:\n",
        "        super().flight()\n",
        "        print('Hii', name, self.name, 'cannot fly..')\n",
        "\n",
        "s = Sparrow('Sparrow')\n",
        "s.flight()\n",
        "\n",
        "p = Ostrich('Ostrich')\n",
        "# p.flight()\n",
        "# TypeError: Ostrich.flight() missing 1 required positional argument: 'name'\n",
        "p.flight('snehal')\n"
      ],
      "metadata": {
        "colab": {
          "base_uri": "https://localhost:8080/"
        },
        "id": "WQfmhY9Lh1hd",
        "outputId": "34dfe6dd-35ee-4914-bca5-79e3066defe6"
      },
      "execution_count": 8,
      "outputs": [
        {
          "output_type": "stream",
          "name": "stdout",
          "text": [
            "Birds can fly, but some cannot..\n",
            "Sparrow can fly..\n",
            "Birds can fly, but some cannot..\n",
            "Hii snehal Ostrich cannot fly..\n"
          ]
        }
      ]
    },
    {
      "cell_type": "code",
      "source": [
        "# # Practice\n",
        "\n",
        "# class Vehicle():\n",
        "#     def __init__(self,door=0,wheels=2,windows=0) -> None:\n",
        "#         self.door=door\n",
        "#         self.wheels=wheels\n",
        "#         self.windows=windows\n",
        "\n",
        "#     def add_wheels(self):\n",
        "#         self.wheels+=1\n",
        "\n",
        "#     V1 = Vehicle(2, 4, 2)\n",
        "\n",
        "#     V2 = Vehicle(0, 2, 0)\n",
        "\n",
        "# print(V1.wheels)\n",
        "# print(V2.wheels)\n",
        "# V1.add_wheels()\n"
      ],
      "metadata": {
        "id": "FERjOlq7h876"
      },
      "execution_count": 10,
      "outputs": []
    },
    {
      "cell_type": "code",
      "source": [],
      "metadata": {
        "id": "LrCXy7SMjVo9"
      },
      "execution_count": null,
      "outputs": []
    }
  ]
}