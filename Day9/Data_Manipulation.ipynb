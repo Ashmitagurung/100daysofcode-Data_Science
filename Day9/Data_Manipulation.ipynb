{
  "nbformat": 4,
  "nbformat_minor": 0,
  "metadata": {
    "colab": {
      "provenance": []
    },
    "kernelspec": {
      "name": "python3",
      "display_name": "Python 3"
    },
    "language_info": {
      "name": "python"
    }
  },
  "cells": [
    {
      "cell_type": "markdown",
      "source": [
        "# Data Manipuation by Ashmita Gurung"
      ],
      "metadata": {
        "id": "yVT8_0SSc74D"
      }
    },
    {
      "cell_type": "markdown",
      "source": [],
      "metadata": {
        "id": "SuJqDId1dogk"
      }
    },
    {
      "cell_type": "code",
      "source": [
        "import pandas as pd\n",
        "import numpy as np"
      ],
      "metadata": {
        "id": "zNyU3e8ldFvJ"
      },
      "execution_count": 1,
      "outputs": []
    },
    {
      "cell_type": "code",
      "source": [
        "array = np.array([1, 2, 3, 4, 5, 6])\n",
        "print(array)"
      ],
      "metadata": {
        "colab": {
          "base_uri": "https://localhost:8080/"
        },
        "id": "fgyWS5W-dVjn",
        "outputId": "865dcd53-0995-4ad7-e393-87c053b992cb"
      },
      "execution_count": 3,
      "outputs": [
        {
          "output_type": "stream",
          "name": "stdout",
          "text": [
            "[1 2 3 4 5 6]\n"
          ]
        }
      ]
    },
    {
      "cell_type": "markdown",
      "source": [
        "# Advanced Indexing and Selection\n"
      ],
      "metadata": {
        "id": "vlDROgSsdqNo"
      }
    },
    {
      "cell_type": "code",
      "source": [
        "import pandas as pd\n",
        "\n",
        "data = {\n",
        "    'A': [1, 2, 3, 4, 5, 6],\n",
        "    'B': [7, 8, 9, 10, 11, 12],\n",
        "    'C': [13, 14, 15, 16, 17, 18]\n",
        "}\n",
        "index = pd.MultiIndex.from_tuples([('X', 2020), ('X', 2021), ('Y', 2020), ('Y', 2021), ('Z', 2020), ('Z', 2021)], names=['City', 'Year'])\n",
        "df = pd.DataFrame(data, index=index)\n",
        "\n",
        "print(df['A']['X'])"
      ],
      "metadata": {
        "colab": {
          "base_uri": "https://localhost:8080/"
        },
        "id": "SHvqYEHCdvps",
        "outputId": "5e75648b-7e1f-4783-97f5-20fb9e0c3bf0"
      },
      "execution_count": 7,
      "outputs": [
        {
          "output_type": "stream",
          "name": "stdout",
          "text": [
            "Year\n",
            "2020    1\n",
            "2021    2\n",
            "Name: A, dtype: int64\n"
          ]
        }
      ]
    },
    {
      "cell_type": "markdown",
      "source": [
        "Indexing and Slicing with loc and iloc\n"
      ],
      "metadata": {
        "id": "iQgwoURzejUS"
      }
    },
    {
      "cell_type": "code",
      "source": [
        "# Accessing DataFrame Elements using labeled and integer-based indexing\n",
        "\n",
        "# Using loc[] for labeled indexing\n",
        "print(df.loc[('X', 2020), 'A'])\n",
        "\n",
        "# Using iloc[] for integer-based indexing\n",
        "print(df.iloc[0, 1])\n"
      ],
      "metadata": {
        "colab": {
          "base_uri": "https://localhost:8080/"
        },
        "id": "w2l4x0RReoQf",
        "outputId": "1e833111-57d4-4552-96c5-2ff580bc6dfe"
      },
      "execution_count": 9,
      "outputs": [
        {
          "output_type": "stream",
          "name": "stdout",
          "text": [
            "1\n",
            "7\n"
          ]
        }
      ]
    },
    {
      "cell_type": "markdown",
      "source": [
        "Boolean Indexing and Filtering"
      ],
      "metadata": {
        "id": "OiBYlvrge8H_"
      }
    },
    {
      "cell_type": "code",
      "source": [
        "# Selecting data from a DataFrame based on specified conditions.\n",
        "\n",
        "\n",
        "# Boolean indexing to filter rows with 'B' values greater than 9\n",
        "filtered_df = df[df['B'] > 9]\n",
        "print(filtered_df)\n"
      ],
      "metadata": {
        "colab": {
          "base_uri": "https://localhost:8080/"
        },
        "id": "2Oyzr_EWe_Z5",
        "outputId": "4a196fa2-7a61-4623-df8e-c61ec90bf61b"
      },
      "execution_count": 10,
      "outputs": [
        {
          "output_type": "stream",
          "name": "stdout",
          "text": [
            "           A   B   C\n",
            "City Year           \n",
            "Y    2021  4  10  16\n",
            "Z    2020  5  11  17\n",
            "     2021  6  12  18\n"
          ]
        }
      ]
    },
    {
      "cell_type": "markdown",
      "source": [
        "# Combining DataFrames"
      ],
      "metadata": {
        "id": "qiREBnRffJt5"
      }
    },
    {
      "cell_type": "markdown",
      "source": [
        "**Merging and combining DataFrames with merge() and join():**\n",
        "\n",
        "\n",
        "\n",
        "*  Combining DataFrames based on common columns.\n",
        "*  inner Join: Only common records will be displayed from the both the table and their matching values\n",
        "*   left : All records from the first table will be displayed and matching records from the right table and if there is no matching data null values will be displayed\n",
        "\n",
        "*  full : All records from the both tables will be displayed and matchign data and if matching data is not available null will be displayed\n",
        "*  right : All records from the second\n",
        "table will be displayed and matching records from the right table and if there is no matching data null values will be displayed\n",
        "\n",
        "\n",
        "\n",
        "\n"
      ],
      "metadata": {
        "id": "gFmcwZHpfQOA"
      }
    },
    {
      "cell_type": "code",
      "source": [
        "df1 = pd.DataFrame({'ID': [1, 2, 3], 'Name': ['Alice', 'Bob', 'Charlie']})\n",
        "df2 = pd.DataFrame({'ID': [2, 3, 4], 'Age': [25, 30, 22]})\n",
        "\n",
        "#Merging based on ID\n",
        "\n",
        "merged_df = pd.merge(df1, df2, on='ID', how = 'inner')\n",
        "print(merged_df)"
      ],
      "metadata": {
        "colab": {
          "base_uri": "https://localhost:8080/"
        },
        "id": "ssKnR27Xf4Lo",
        "outputId": "8ed3ff03-2a13-4b06-e74f-fc9d508a378a"
      },
      "execution_count": 11,
      "outputs": [
        {
          "output_type": "stream",
          "name": "stdout",
          "text": [
            "   ID     Name  Age\n",
            "0   2      Bob   25\n",
            "1   3  Charlie   30\n"
          ]
        }
      ]
    },
    {
      "cell_type": "markdown",
      "source": [
        "Concatenating DataFrame using concat():"
      ],
      "metadata": {
        "id": "37oggj_wgjCh"
      }
    },
    {
      "cell_type": "code",
      "source": [
        "# Combinig DataFrames along a specified axis(rows and columns).\n",
        "\n",
        "df1 = pd.DataFrame({'A': [1, 2], 'B': [3, 4]})\n",
        "df2 = pd.DataFrame({'A': [5, 6], 'B': [7, 8]})\n",
        "\n",
        "#Concatenate along rows\n",
        "concatenated_df = pd.concat([df1, df2])\n",
        "print(concatenated_df)"
      ],
      "metadata": {
        "colab": {
          "base_uri": "https://localhost:8080/"
        },
        "id": "6sIErwK5gnTi",
        "outputId": "b212e018-d498-4273-d92b-840012b1a128"
      },
      "execution_count": 12,
      "outputs": [
        {
          "output_type": "stream",
          "name": "stdout",
          "text": [
            "   A  B\n",
            "0  1  3\n",
            "1  2  4\n",
            "0  5  7\n",
            "1  6  8\n"
          ]
        }
      ]
    },
    {
      "cell_type": "markdown",
      "source": [
        "# Data Manipulation"
      ],
      "metadata": {
        "id": "E1gADaAsg_Yu"
      }
    },
    {
      "cell_type": "markdown",
      "source": [
        "Filtering and subsetting data based on conditions"
      ],
      "metadata": {
        "id": "4ZWqeDODhCzX"
      }
    },
    {
      "cell_type": "code",
      "source": [
        "d = {'id':[1,2,3],'name':['F','N','C'],'Age':[22,26,38],'City':['Kathmandu','Pokhara','Okhaldhunga']}\n",
        "df = pd.DataFrame(d)\n",
        "\n",
        "# Filter rows where column 'Age' is greater than 25\n",
        "filtered_data = df[df['Age'] > 25]\n",
        "print(filtered_data)"
      ],
      "metadata": {
        "colab": {
          "base_uri": "https://localhost:8080/"
        },
        "id": "b24bfQU1hH9z",
        "outputId": "dbe9db6c-08fc-42e4-e1b8-85b0da8a7ee5"
      },
      "execution_count": 13,
      "outputs": [
        {
          "output_type": "stream",
          "name": "stdout",
          "text": [
            "   id name  Age         City\n",
            "1   2    N   26      Pokhara\n",
            "2   3    C   38  Okhaldhunga\n"
          ]
        }
      ]
    },
    {
      "cell_type": "markdown",
      "source": [
        "** Sorting and Ranking Data**\n",
        "> Ordering data based on column values and assigning ranks to data elements."
      ],
      "metadata": {
        "id": "_4DJL568hohH"
      }
    },
    {
      "cell_type": "code",
      "source": [
        "# Sorting DataFrame based on 'Age' in descending order\n",
        "sorted_df = df.sort_values(by='Age', ascending=False)\n",
        "\n",
        "print(df)"
      ],
      "metadata": {
        "colab": {
          "base_uri": "https://localhost:8080/"
        },
        "id": "0Zb719qvhzHr",
        "outputId": "8bd97c00-be95-4be0-85ee-7b6378930436"
      },
      "execution_count": 14,
      "outputs": [
        {
          "output_type": "stream",
          "name": "stdout",
          "text": [
            "   id name  Age         City\n",
            "0   1    F   22    Kathmandu\n",
            "1   2    N   26      Pokhara\n",
            "2   3    C   38  Okhaldhunga\n"
          ]
        }
      ]
    },
    {
      "cell_type": "code",
      "source": [
        "# Ranking 'Age' within the DataFrame\n",
        "df['Rank'] = df['Age'].rank(ascending=False)\n",
        "print(df)\n",
        ""
      ],
      "metadata": {
        "colab": {
          "base_uri": "https://localhost:8080/"
        },
        "id": "HqlyAeOWh-zv",
        "outputId": "15710208-1821-4333-c010-e482bd9db2e6"
      },
      "execution_count": 15,
      "outputs": [
        {
          "output_type": "stream",
          "name": "stdout",
          "text": [
            "   id name  Age         City  Rank\n",
            "0   1    F   22    Kathmandu   3.0\n",
            "1   2    N   26      Pokhara   2.0\n",
            "2   3    C   38  Okhaldhunga   1.0\n"
          ]
        }
      ]
    },
    {
      "cell_type": "markdown",
      "source": [
        "# Data Aggregation and Grouping"
      ],
      "metadata": {
        "id": "Ib1ggMLLiNsO"
      }
    },
    {
      "cell_type": "markdown",
      "source": [
        "**Grouping Data using groupby()**\n",
        "> Splitting data into groups based on one or more categorical variables."
      ],
      "metadata": {
        "id": "UTlwAWmuiTNR"
      }
    },
    {
      "cell_type": "code",
      "source": [
        "# Creating a DataFrame\n",
        "data = {\n",
        "    'City': ['A', 'B', 'A', 'B', 'A', 'B'],\n",
        "    'Sales': [100, 120, 80, 150, 200, 250]\n",
        "}\n",
        "df = pd.DataFrame(data)\n",
        "\n",
        "# Grouping data by 'City'\n",
        "grouped_df = df.groupby('City')\n",
        "\n",
        "for i in grouped_df:\n",
        "    print(i)"
      ],
      "metadata": {
        "colab": {
          "base_uri": "https://localhost:8080/"
        },
        "id": "rzKQXi_kiaq7",
        "outputId": "9fe26ce7-1837-4a70-86d8-10a994eaf20e"
      },
      "execution_count": 16,
      "outputs": [
        {
          "output_type": "stream",
          "name": "stdout",
          "text": [
            "('A',   City  Sales\n",
            "0    A    100\n",
            "2    A     80\n",
            "4    A    200)\n",
            "('B',   City  Sales\n",
            "1    B    120\n",
            "3    B    150\n",
            "5    B    250)\n"
          ]
        }
      ]
    },
    {
      "cell_type": "code",
      "source": [],
      "metadata": {
        "id": "U8P8Z_7didvh"
      },
      "execution_count": null,
      "outputs": []
    }
  ]
}