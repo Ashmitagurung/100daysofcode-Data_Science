{
 "cells": [
  {
   "cell_type": "code",
   "execution_count": 1,
   "id": "46c562af",
   "metadata": {},
   "outputs": [
    {
     "name": "stdout",
     "output_type": "stream",
     "text": [
      "hello world\n"
     ]
    }
   ],
   "source": [
    "print(\"hello world\")"
   ]
  },
  {
   "cell_type": "code",
   "execution_count": 2,
   "id": "91c1b9dd",
   "metadata": {},
   "outputs": [
    {
     "name": "stdout",
     "output_type": "stream",
     "text": [
      "sum =  9\n"
     ]
    }
   ],
   "source": [
    "a = 5\n",
    "b = 4\n",
    "c = a + b\n",
    "print(\"sum = \",c)\n"
   ]
  },
  {
   "cell_type": "code",
   "execution_count": 3,
   "id": "249acf57",
   "metadata": {},
   "outputs": [
    {
     "name": "stdout",
     "output_type": "stream",
     "text": [
      "3\n",
      "<class 'int'>\n"
     ]
    }
   ],
   "source": [
    "x= 3\n",
    "print(x)\n",
    "print(type(x))"
   ]
  },
  {
   "cell_type": "code",
   "execution_count": 4,
   "id": "bf3bbfd5",
   "metadata": {},
   "outputs": [],
   "source": [
    "#Variables \n"
   ]
  },
  {
   "cell_type": "markdown",
   "id": "7ada7f65",
   "metadata": {},
   "source": [
    "#Variables"
   ]
  },
  {
   "cell_type": "code",
   "execution_count": 5,
   "id": "8f09cf2f",
   "metadata": {},
   "outputs": [],
   "source": [
    "x = 4\n"
   ]
  },
  {
   "cell_type": "code",
   "execution_count": 6,
   "id": "98867ea2",
   "metadata": {},
   "outputs": [
    {
     "name": "stdout",
     "output_type": "stream",
     "text": [
      "Variable   Type    Data/Info\n",
      "----------------------------\n",
      "a          int     5\n",
      "b          int     4\n",
      "c          int     9\n",
      "x          int     4\n"
     ]
    }
   ],
   "source": [
    "%whos\n"
   ]
  },
  {
   "cell_type": "code",
   "execution_count": 7,
   "id": "24d1eede",
   "metadata": {},
   "outputs": [
    {
     "name": "stdout",
     "output_type": "stream",
     "text": [
      "<class 'int'>\n"
     ]
    }
   ],
   "source": [
    "print(type(x))"
   ]
  },
  {
   "cell_type": "code",
   "execution_count": 8,
   "id": "ec526176",
   "metadata": {},
   "outputs": [
    {
     "name": "stdout",
     "output_type": "stream",
     "text": [
      "Variable   Type    Data/Info\n",
      "----------------------------\n",
      "a          int     5\n",
      "b          int     4\n",
      "c          int     9\n",
      "x          int     4\n"
     ]
    }
   ],
   "source": [
    "%whos"
   ]
  },
  {
   "cell_type": "code",
   "execution_count": 9,
   "id": "b3e898ce",
   "metadata": {},
   "outputs": [],
   "source": [
    "x = 4.5"
   ]
  },
  {
   "cell_type": "code",
   "execution_count": 10,
   "id": "f0586b84",
   "metadata": {},
   "outputs": [
    {
     "name": "stdout",
     "output_type": "stream",
     "text": [
      "Variable   Type     Data/Info\n",
      "-----------------------------\n",
      "a          int      5\n",
      "b          int      4\n",
      "c          int      9\n",
      "x          float    4.5\n"
     ]
    }
   ],
   "source": [
    "%whos\n"
   ]
  },
  {
   "cell_type": "code",
   "execution_count": 11,
   "id": "7e5261af",
   "metadata": {},
   "outputs": [],
   "source": [
    "abcd = 554.54\n"
   ]
  },
  {
   "cell_type": "code",
   "execution_count": 12,
   "id": "fe7013b7",
   "metadata": {},
   "outputs": [
    {
     "name": "stdout",
     "output_type": "stream",
     "text": [
      "Variable   Type     Data/Info\n",
      "-----------------------------\n",
      "a          int      5\n",
      "abcd       float    554.54\n",
      "b          int      4\n",
      "c          int      9\n",
      "x          float    4.5\n"
     ]
    }
   ],
   "source": [
    "%whos"
   ]
  },
  {
   "cell_type": "code",
   "execution_count": 13,
   "id": "a1c426a7",
   "metadata": {},
   "outputs": [],
   "source": [
    "a,b = 3, 4.5"
   ]
  },
  {
   "cell_type": "code",
   "execution_count": 14,
   "id": "250ea15d",
   "metadata": {},
   "outputs": [
    {
     "name": "stdout",
     "output_type": "stream",
     "text": [
      "Variable   Type     Data/Info\n",
      "-----------------------------\n",
      "a          int      3\n",
      "abcd       float    554.54\n",
      "b          float    4.5\n",
      "c          int      9\n",
      "x          float    4.5\n"
     ]
    }
   ],
   "source": [
    "%whos\n"
   ]
  },
  {
   "cell_type": "code",
   "execution_count": 15,
   "id": "87a110ac",
   "metadata": {},
   "outputs": [],
   "source": [
    "r, n = 4, 5.4"
   ]
  },
  {
   "cell_type": "code",
   "execution_count": 16,
   "id": "91276387",
   "metadata": {},
   "outputs": [
    {
     "name": "stdout",
     "output_type": "stream",
     "text": [
      "Variable   Type     Data/Info\n",
      "-----------------------------\n",
      "a          int      3\n",
      "abcd       float    554.54\n",
      "b          float    4.5\n",
      "c          int      9\n",
      "n          float    5.4\n",
      "r          int      4\n",
      "x          float    4.5\n"
     ]
    }
   ],
   "source": [
    "%whos"
   ]
  },
  {
   "cell_type": "code",
   "execution_count": 17,
   "id": "e37c75bf",
   "metadata": {},
   "outputs": [],
   "source": [
    "del abcd"
   ]
  },
  {
   "cell_type": "code",
   "execution_count": 18,
   "id": "d0824bc3",
   "metadata": {},
   "outputs": [
    {
     "name": "stdout",
     "output_type": "stream",
     "text": [
      "Variable   Type     Data/Info\n",
      "-----------------------------\n",
      "a          int      3\n",
      "b          float    4.5\n",
      "c          int      9\n",
      "n          float    5.4\n",
      "r          int      4\n",
      "x          float    4.5\n"
     ]
    }
   ],
   "source": [
    "%whos"
   ]
  },
  {
   "cell_type": "code",
   "execution_count": 19,
   "id": "4bd3662a",
   "metadata": {},
   "outputs": [],
   "source": [
    "del a"
   ]
  },
  {
   "cell_type": "code",
   "execution_count": 20,
   "id": "4099d54d",
   "metadata": {},
   "outputs": [
    {
     "name": "stdout",
     "output_type": "stream",
     "text": [
      "Variable   Type     Data/Info\n",
      "-----------------------------\n",
      "b          float    4.5\n",
      "c          int      9\n",
      "n          float    5.4\n",
      "r          int      4\n",
      "x          float    4.5\n"
     ]
    }
   ],
   "source": [
    "%whos"
   ]
  },
  {
   "cell_type": "code",
   "execution_count": 21,
   "id": "ad45a0be",
   "metadata": {},
   "outputs": [],
   "source": [
    "del r, n"
   ]
  },
  {
   "cell_type": "code",
   "execution_count": 22,
   "id": "b87a23f5",
   "metadata": {},
   "outputs": [
    {
     "name": "stdout",
     "output_type": "stream",
     "text": [
      "Variable   Type     Data/Info\n",
      "-----------------------------\n",
      "b          float    4.5\n",
      "c          int      9\n",
      "x          float    4.5\n"
     ]
    }
   ],
   "source": [
    "%whos"
   ]
  },
  {
   "cell_type": "code",
   "execution_count": 23,
   "id": "da4fd4dd",
   "metadata": {},
   "outputs": [],
   "source": [
    "m = 4 + 5j"
   ]
  },
  {
   "cell_type": "code",
   "execution_count": 24,
   "id": "ba9fcd55",
   "metadata": {},
   "outputs": [
    {
     "name": "stdout",
     "output_type": "stream",
     "text": [
      "Variable   Type       Data/Info\n",
      "-------------------------------\n",
      "b          float      4.5\n",
      "c          int        9\n",
      "m          complex    (4+5j)\n",
      "x          float      4.5\n"
     ]
    }
   ],
   "source": [
    "%whos"
   ]
  },
  {
   "cell_type": "code",
   "execution_count": 25,
   "id": "aad4792d",
   "metadata": {},
   "outputs": [],
   "source": [
    "s = \"hello how are you\""
   ]
  },
  {
   "cell_type": "code",
   "execution_count": 26,
   "id": "37ac7ccd",
   "metadata": {},
   "outputs": [
    {
     "name": "stdout",
     "output_type": "stream",
     "text": [
      "Variable   Type       Data/Info\n",
      "-------------------------------\n",
      "b          float      4.5\n",
      "c          int        9\n",
      "m          complex    (4+5j)\n",
      "s          str        hello how are you\n",
      "x          float      4.5\n"
     ]
    }
   ],
   "source": [
    "%whos"
   ]
  },
  {
   "cell_type": "code",
   "execution_count": 27,
   "id": "b9cf7382",
   "metadata": {},
   "outputs": [],
   "source": [
    "c = True"
   ]
  },
  {
   "cell_type": "code",
   "execution_count": 28,
   "id": "54c74e95",
   "metadata": {},
   "outputs": [
    {
     "name": "stdout",
     "output_type": "stream",
     "text": [
      "Variable   Type       Data/Info\n",
      "-------------------------------\n",
      "b          float      4.5\n",
      "c          bool       True\n",
      "m          complex    (4+5j)\n",
      "s          str        hello how are you\n",
      "x          float      4.5\n"
     ]
    }
   ],
   "source": [
    "%whos"
   ]
  },
  {
   "cell_type": "markdown",
   "id": "7bce8336",
   "metadata": {},
   "source": [
    "#Operators\n"
   ]
  },
  {
   "cell_type": "code",
   "execution_count": 29,
   "id": "980689f6",
   "metadata": {},
   "outputs": [],
   "source": [
    "#Now We are going to talk about Opeators"
   ]
  },
  {
   "cell_type": "markdown",
   "id": "431f0b7f",
   "metadata": {},
   "source": [
    "# operators\n"
   ]
  },
  {
   "cell_type": "code",
   "execution_count": 30,
   "id": "d60c2d16",
   "metadata": {},
   "outputs": [
    {
     "name": "stdout",
     "output_type": "stream",
     "text": [
      "Variable   Type       Data/Info\n",
      "-------------------------------\n",
      "b          float      4.5\n",
      "c          bool       True\n",
      "m          complex    (4+5j)\n",
      "s          str        hello how are you\n",
      "x          float      4.5\n"
     ]
    }
   ],
   "source": [
    "%whos"
   ]
  },
  {
   "cell_type": "code",
   "execution_count": 31,
   "id": "6a2c1931",
   "metadata": {},
   "outputs": [],
   "source": [
    "sum = b + x"
   ]
  },
  {
   "cell_type": "code",
   "execution_count": 32,
   "id": "995f0270",
   "metadata": {},
   "outputs": [
    {
     "name": "stdout",
     "output_type": "stream",
     "text": [
      "9.0\n"
     ]
    }
   ],
   "source": [
    "print(sum)"
   ]
  },
  {
   "cell_type": "code",
   "execution_count": 33,
   "id": "a6ca27c8",
   "metadata": {},
   "outputs": [
    {
     "name": "stdout",
     "output_type": "stream",
     "text": [
      "9.0\n"
     ]
    }
   ],
   "source": [
    "print(sum)"
   ]
  },
  {
   "cell_type": "code",
   "execution_count": 34,
   "id": "235374bf",
   "metadata": {},
   "outputs": [
    {
     "name": "stdout",
     "output_type": "stream",
     "text": [
      "<class 'float'>\n"
     ]
    }
   ],
   "source": [
    "print(type(sum))"
   ]
  },
  {
   "cell_type": "code",
   "execution_count": 35,
   "id": "91aedc83",
   "metadata": {},
   "outputs": [
    {
     "name": "stdout",
     "output_type": "stream",
     "text": [
      "Variable   Type       Data/Info\n",
      "-------------------------------\n",
      "b          float      4.5\n",
      "c          bool       True\n",
      "m          complex    (4+5j)\n",
      "s          str        hello how are you\n",
      "sum        float      9.0\n",
      "x          float      4.5\n"
     ]
    }
   ],
   "source": [
    "%whos\n"
   ]
  },
  {
   "cell_type": "code",
   "execution_count": 36,
   "id": "783a12ae",
   "metadata": {},
   "outputs": [
    {
     "data": {
      "text/plain": [
       "81.0"
      ]
     },
     "execution_count": 36,
     "metadata": {},
     "output_type": "execute_result"
    }
   ],
   "source": [
    "(b + x)* sum"
   ]
  },
  {
   "cell_type": "code",
   "execution_count": 37,
   "id": "afef0a15",
   "metadata": {},
   "outputs": [
    {
     "ename": "NameError",
     "evalue": "name 'hello' is not defined",
     "output_type": "error",
     "traceback": [
      "\u001b[1;31m---------------------------------------------------------------------------\u001b[0m",
      "\u001b[1;31mNameError\u001b[0m                                 Traceback (most recent call last)",
      "Cell \u001b[1;32mIn[37], line 1\u001b[0m\n\u001b[1;32m----> 1\u001b[0m s1 \u001b[38;5;241m=\u001b[39m hello\n",
      "\u001b[1;31mNameError\u001b[0m: name 'hello' is not defined"
     ]
    }
   ],
   "source": [
    "s1 = hello"
   ]
  },
  {
   "cell_type": "code",
   "execution_count": 38,
   "id": "619428a1",
   "metadata": {},
   "outputs": [
    {
     "ename": "SyntaxError",
     "evalue": "invalid syntax (393166327.py, line 1)",
     "output_type": "error",
     "traceback": [
      "\u001b[1;36m  Cell \u001b[1;32mIn[38], line 1\u001b[1;36m\u001b[0m\n\u001b[1;33m    s2 =\u001b[0m\n\u001b[1;37m         ^\u001b[0m\n\u001b[1;31mSyntaxError\u001b[0m\u001b[1;31m:\u001b[0m invalid syntax\n"
     ]
    }
   ],
   "source": [
    "s2 = "
   ]
  },
  {
   "cell_type": "code",
   "execution_count": 39,
   "id": "95ec5f74",
   "metadata": {},
   "outputs": [
    {
     "name": "stdout",
     "output_type": "stream",
     "text": [
      "\f",
      "\n"
     ]
    }
   ],
   "source": [
    "clear\n"
   ]
  },
  {
   "cell_type": "code",
   "execution_count": 40,
   "id": "992b752a",
   "metadata": {},
   "outputs": [
    {
     "name": "stdout",
     "output_type": "stream",
     "text": [
      "helloWorld\n",
      "<class 'str'>\n"
     ]
    }
   ],
   "source": [
    "s1 = \"hello\"\n",
    "s2 = 'World'\n",
    "s = s1 + s2 \n",
    "print(s)\n",
    "print(type(s))"
   ]
  },
  {
   "cell_type": "code",
   "execution_count": 41,
   "id": "6c00b593",
   "metadata": {},
   "outputs": [
    {
     "data": {
      "text/plain": [
       "81.0"
      ]
     },
     "execution_count": 41,
     "metadata": {},
     "output_type": "execute_result"
    }
   ],
   "source": [
    "_"
   ]
  },
  {
   "cell_type": "code",
   "execution_count": 42,
   "id": "58dd5518",
   "metadata": {},
   "outputs": [
    {
     "name": "stdout",
     "output_type": "stream",
     "text": [
      "Variable   Type       Data/Info\n",
      "-------------------------------\n",
      "b          float      4.5\n",
      "c          bool       True\n",
      "m          complex    (4+5j)\n",
      "s          str        helloWorld\n",
      "s1         str        hello\n",
      "s2         str        World\n",
      "sum        float      9.0\n",
      "x          float      4.5\n"
     ]
    }
   ],
   "source": [
    "%whos"
   ]
  },
  {
   "cell_type": "code",
   "execution_count": 43,
   "id": "4658a1af",
   "metadata": {},
   "outputs": [],
   "source": [
    "del sum, x, b, c"
   ]
  },
  {
   "cell_type": "code",
   "execution_count": 44,
   "id": "27f81a9f",
   "metadata": {},
   "outputs": [
    {
     "name": "stdout",
     "output_type": "stream",
     "text": [
      "Variable   Type       Data/Info\n",
      "-------------------------------\n",
      "m          complex    (4+5j)\n",
      "s          str        helloWorld\n",
      "s1         str        hello\n",
      "s2         str        World\n"
     ]
    }
   ],
   "source": [
    "%whos"
   ]
  },
  {
   "cell_type": "code",
   "execution_count": 45,
   "id": "ec71d558",
   "metadata": {},
   "outputs": [],
   "source": [
    "del m, s, s1, s2 \n"
   ]
  },
  {
   "cell_type": "code",
   "execution_count": 46,
   "id": "55329cf3",
   "metadata": {},
   "outputs": [
    {
     "name": "stdout",
     "output_type": "stream",
     "text": [
      "Interactive namespace is empty.\n"
     ]
    }
   ],
   "source": [
    "%whos"
   ]
  },
  {
   "cell_type": "code",
   "execution_count": 47,
   "id": "afb267cd",
   "metadata": {},
   "outputs": [
    {
     "ename": "SyntaxError",
     "evalue": "invalid decimal literal (1671370663.py, line 1)",
     "output_type": "error",
     "traceback": [
      "\u001b[1;36m  Cell \u001b[1;32mIn[47], line 1\u001b[1;36m\u001b[0m\n\u001b[1;33m    3x = 5\u001b[0m\n\u001b[1;37m    ^\u001b[0m\n\u001b[1;31mSyntaxError\u001b[0m\u001b[1;31m:\u001b[0m invalid decimal literal\n"
     ]
    }
   ],
   "source": [
    "3x = 5"
   ]
  },
  {
   "cell_type": "code",
   "execution_count": 48,
   "id": "cdf62850",
   "metadata": {},
   "outputs": [
    {
     "ename": "NameError",
     "evalue": "name 'okay' is not defined",
     "output_type": "error",
     "traceback": [
      "\u001b[1;31m---------------------------------------------------------------------------\u001b[0m",
      "\u001b[1;31mNameError\u001b[0m                                 Traceback (most recent call last)",
      "Cell \u001b[1;32mIn[48], line 1\u001b[0m\n\u001b[1;32m----> 1\u001b[0m okay\n",
      "\u001b[1;31mNameError\u001b[0m: name 'okay' is not defined"
     ]
    }
   ],
   "source": [
    "okay"
   ]
  },
  {
   "cell_type": "code",
   "execution_count": 49,
   "id": "5c572076",
   "metadata": {},
   "outputs": [],
   "source": [
    "a = 3\n",
    "b = 54"
   ]
  },
  {
   "cell_type": "code",
   "execution_count": 50,
   "id": "a02cee16",
   "metadata": {},
   "outputs": [
    {
     "name": "stdout",
     "output_type": "stream",
     "text": [
      "Variable   Type    Data/Info\n",
      "----------------------------\n",
      "a          int     3\n",
      "b          int     54\n"
     ]
    }
   ],
   "source": [
    "%whos"
   ]
  },
  {
   "cell_type": "code",
   "execution_count": 51,
   "id": "0d750690",
   "metadata": {},
   "outputs": [],
   "source": [
    "CamelCase = 4.5\n"
   ]
  },
  {
   "cell_type": "code",
   "execution_count": 52,
   "id": "5c88241a",
   "metadata": {},
   "outputs": [
    {
     "name": "stdout",
     "output_type": "stream",
     "text": [
      "Variable    Type     Data/Info\n",
      "------------------------------\n",
      "CamelCase   float    4.5\n",
      "a           int      3\n",
      "b           int      54\n"
     ]
    }
   ],
   "source": [
    "%whos"
   ]
  },
  {
   "cell_type": "markdown",
   "id": "06a428e9",
   "metadata": {},
   "source": [
    "#bool\n"
   ]
  },
  {
   "cell_type": "markdown",
   "id": "16dd9e86",
   "metadata": {},
   "source": [
    "#Bool\n"
   ]
  },
  {
   "cell_type": "code",
   "execution_count": 53,
   "id": "d5888d3e",
   "metadata": {},
   "outputs": [],
   "source": [
    "x = True\n",
    "y = True\n",
    "z = False\n"
   ]
  },
  {
   "cell_type": "code",
   "execution_count": 54,
   "id": "490c3bf3",
   "metadata": {},
   "outputs": [
    {
     "name": "stdout",
     "output_type": "stream",
     "text": [
      "Variable    Type     Data/Info\n",
      "------------------------------\n",
      "CamelCase   float    4.5\n",
      "a           int      3\n",
      "b           int      54\n",
      "x           bool     True\n",
      "y           bool     True\n",
      "z           bool     False\n"
     ]
    }
   ],
   "source": [
    "%whos"
   ]
  },
  {
   "cell_type": "code",
   "execution_count": 55,
   "id": "5c0a7ac4",
   "metadata": {},
   "outputs": [
    {
     "name": "stdout",
     "output_type": "stream",
     "text": [
      "True\n"
     ]
    }
   ],
   "source": [
    "print(x and y)"
   ]
  },
  {
   "cell_type": "code",
   "execution_count": 56,
   "id": "38660251",
   "metadata": {},
   "outputs": [
    {
     "name": "stdout",
     "output_type": "stream",
     "text": [
      "True\n"
     ]
    }
   ],
   "source": [
    "print(x or y)"
   ]
  },
  {
   "cell_type": "code",
   "execution_count": 57,
   "id": "0944ae69",
   "metadata": {},
   "outputs": [
    {
     "name": "stdout",
     "output_type": "stream",
     "text": [
      "False\n"
     ]
    }
   ],
   "source": [
    "print(x and z)"
   ]
  },
  {
   "cell_type": "code",
   "execution_count": 58,
   "id": "05927a58",
   "metadata": {},
   "outputs": [
    {
     "name": "stdout",
     "output_type": "stream",
     "text": [
      "Variable    Type     Data/Info\n",
      "------------------------------\n",
      "CamelCase   float    4.5\n",
      "a           int      3\n",
      "b           int      54\n",
      "x           bool     True\n",
      "y           bool     True\n",
      "z           bool     False\n"
     ]
    }
   ],
   "source": [
    "%whos"
   ]
  },
  {
   "cell_type": "code",
   "execution_count": 59,
   "id": "3afee2a5",
   "metadata": {},
   "outputs": [
    {
     "data": {
      "text/plain": [
       "False"
      ]
     },
     "execution_count": 59,
     "metadata": {},
     "output_type": "execute_result"
    }
   ],
   "source": [
    "not(a)"
   ]
  },
  {
   "cell_type": "code",
   "execution_count": 60,
   "id": "a96c8c4e",
   "metadata": {},
   "outputs": [
    {
     "data": {
      "text/plain": [
       "False"
      ]
     },
     "execution_count": 60,
     "metadata": {},
     "output_type": "execute_result"
    }
   ],
   "source": [
    "not(b)"
   ]
  },
  {
   "cell_type": "code",
   "execution_count": 61,
   "id": "2ee3ff16",
   "metadata": {},
   "outputs": [
    {
     "ename": "NameError",
     "evalue": "name 'c' is not defined",
     "output_type": "error",
     "traceback": [
      "\u001b[1;31m---------------------------------------------------------------------------\u001b[0m",
      "\u001b[1;31mNameError\u001b[0m                                 Traceback (most recent call last)",
      "Cell \u001b[1;32mIn[61], line 1\u001b[0m\n\u001b[1;32m----> 1\u001b[0m \u001b[38;5;129;01mnot\u001b[39;00m(c)\n",
      "\u001b[1;31mNameError\u001b[0m: name 'c' is not defined"
     ]
    }
   ],
   "source": [
    "not(c)"
   ]
  },
  {
   "cell_type": "code",
   "execution_count": 62,
   "id": "e23aface",
   "metadata": {},
   "outputs": [
    {
     "data": {
      "text/plain": [
       "True"
      ]
     },
     "execution_count": 62,
     "metadata": {},
     "output_type": "execute_result"
    }
   ],
   "source": [
    "not(z)"
   ]
  },
  {
   "cell_type": "code",
   "execution_count": 63,
   "id": "67e8e648",
   "metadata": {},
   "outputs": [
    {
     "name": "stdout",
     "output_type": "stream",
     "text": [
      "Variable    Type     Data/Info\n",
      "------------------------------\n",
      "CamelCase   float    4.5\n",
      "a           int      3\n",
      "b           int      54\n",
      "x           bool     True\n",
      "y           bool     True\n",
      "z           bool     False\n"
     ]
    }
   ],
   "source": [
    "%whos\n"
   ]
  },
  {
   "cell_type": "code",
   "execution_count": 64,
   "id": "42c14b42",
   "metadata": {},
   "outputs": [
    {
     "data": {
      "text/plain": [
       "54"
      ]
     },
     "execution_count": 64,
     "metadata": {},
     "output_type": "execute_result"
    }
   ],
   "source": [
    "(a and b) or (c and d)"
   ]
  },
  {
   "cell_type": "code",
   "execution_count": 65,
   "id": "1cfd61e2",
   "metadata": {},
   "outputs": [
    {
     "data": {
      "text/plain": [
       "True"
      ]
     },
     "execution_count": 65,
     "metadata": {},
     "output_type": "execute_result"
    }
   ],
   "source": [
    "(x and y) or (y and z)"
   ]
  },
  {
   "cell_type": "code",
   "execution_count": 66,
   "id": "2c6f0d91",
   "metadata": {},
   "outputs": [
    {
     "data": {
      "text/plain": [
       "False"
      ]
     },
     "execution_count": 66,
     "metadata": {},
     "output_type": "execute_result"
    }
   ],
   "source": [
    "not((a and b) or (c and d))"
   ]
  },
  {
   "cell_type": "code",
   "execution_count": 67,
   "id": "0e675361",
   "metadata": {},
   "outputs": [
    {
     "name": "stdout",
     "output_type": "stream",
     "text": [
      "False\n"
     ]
    }
   ],
   "source": [
    "print(a > b)"
   ]
  },
  {
   "cell_type": "code",
   "execution_count": 68,
   "id": "0e5a3469",
   "metadata": {},
   "outputs": [
    {
     "name": "stdout",
     "output_type": "stream",
     "text": [
      "Variable    Type     Data/Info\n",
      "------------------------------\n",
      "CamelCase   float    4.5\n",
      "a           int      3\n",
      "b           int      54\n",
      "x           bool     True\n",
      "y           bool     True\n",
      "z           bool     False\n"
     ]
    }
   ],
   "source": [
    "%whos"
   ]
  },
  {
   "cell_type": "markdown",
   "id": "a3b5f4d5",
   "metadata": {},
   "source": [
    "#Comparisions\n"
   ]
  },
  {
   "cell_type": "code",
   "execution_count": 70,
   "id": "4aa17a54",
   "metadata": {},
   "outputs": [
    {
     "name": "stdout",
     "output_type": "stream",
     "text": [
      "False\n"
     ]
    }
   ],
   "source": [
    "print(3 >4)"
   ]
  },
  {
   "cell_type": "markdown",
   "id": "23ef1f14",
   "metadata": {},
   "source": [
    "The result of comparisions operators will be i boolean"
   ]
  },
  {
   "cell_type": "code",
   "execution_count": 71,
   "id": "3ddc98f7",
   "metadata": {},
   "outputs": [
    {
     "ename": "SyntaxError",
     "evalue": "invalid syntax (2563063817.py, line 1)",
     "output_type": "error",
     "traceback": [
      "\u001b[1;36m  Cell \u001b[1;32mIn[71], line 1\u001b[1;36m\u001b[0m\n\u001b[1;33m    3===.3.0\u001b[0m\n\u001b[1;37m       ^\u001b[0m\n\u001b[1;31mSyntaxError\u001b[0m\u001b[1;31m:\u001b[0m invalid syntax\n"
     ]
    }
   ],
   "source": [
    "3===.3.0\n"
   ]
  },
  {
   "cell_type": "code",
   "execution_count": 72,
   "id": "a1727915",
   "metadata": {},
   "outputs": [
    {
     "data": {
      "text/plain": [
       "True"
      ]
     },
     "execution_count": 72,
     "metadata": {},
     "output_type": "execute_result"
    }
   ],
   "source": [
    "3 == 3.0"
   ]
  },
  {
   "cell_type": "code",
   "execution_count": 73,
   "id": "d000026d",
   "metadata": {},
   "outputs": [],
   "source": [
    "x = 5\n",
    "y = 8\n",
    "z = -3\n"
   ]
  },
  {
   "cell_type": "code",
   "execution_count": 74,
   "id": "dc050fae",
   "metadata": {},
   "outputs": [
    {
     "data": {
      "text/plain": [
       "True"
      ]
     },
     "execution_count": 74,
     "metadata": {},
     "output_type": "execute_result"
    }
   ],
   "source": [
    "(x<y) and (z<y)"
   ]
  },
  {
   "cell_type": "code",
   "execution_count": 75,
   "id": "6fee0454",
   "metadata": {},
   "outputs": [
    {
     "data": {
      "text/plain": [
       "False"
      ]
     },
     "execution_count": 75,
     "metadata": {},
     "output_type": "execute_result"
    }
   ],
   "source": [
    "False and False and True"
   ]
  },
  {
   "cell_type": "code",
   "execution_count": 76,
   "id": "33a7f8b1",
   "metadata": {},
   "outputs": [
    {
     "data": {
      "text/plain": [
       "True"
      ]
     },
     "execution_count": 76,
     "metadata": {},
     "output_type": "execute_result"
    }
   ],
   "source": [
    "False and False or True"
   ]
  },
  {
   "cell_type": "code",
   "execution_count": 77,
   "id": "54c1ea61",
   "metadata": {},
   "outputs": [
    {
     "data": {
      "text/plain": [
       "True"
      ]
     },
     "execution_count": 77,
     "metadata": {},
     "output_type": "execute_result"
    }
   ],
   "source": [
    "(True and True) or (False and True)"
   ]
  },
  {
   "cell_type": "code",
   "execution_count": 78,
   "id": "787fdcaf",
   "metadata": {},
   "outputs": [
    {
     "name": "stdout",
     "output_type": "stream",
     "text": [
      "False\n"
     ]
    },
    {
     "data": {
      "text/plain": [
       "False"
      ]
     },
     "execution_count": 78,
     "metadata": {},
     "output_type": "execute_result"
    }
   ],
   "source": [
    "print(not(2!=3) and True) or (False and True)"
   ]
  },
  {
   "cell_type": "markdown",
   "id": "9a3d5593",
   "metadata": {},
   "source": [
    "#Functions in python\n"
   ]
  },
  {
   "cell_type": "code",
   "execution_count": 1,
   "id": "6b811506",
   "metadata": {},
   "outputs": [
    {
     "name": "stdout",
     "output_type": "stream",
     "text": [
      "Interactive namespace is empty.\n"
     ]
    }
   ],
   "source": [
    "%whos\n"
   ]
  },
  {
   "cell_type": "code",
   "execution_count": 2,
   "id": "1918a3ce",
   "metadata": {},
   "outputs": [
    {
     "data": {
      "text/plain": [
       "4"
      ]
     },
     "execution_count": 2,
     "metadata": {},
     "output_type": "execute_result"
    }
   ],
   "source": [
    "round(4.5)"
   ]
  },
  {
   "cell_type": "code",
   "execution_count": 3,
   "id": "1070a476",
   "metadata": {},
   "outputs": [
    {
     "data": {
      "text/plain": [
       "8"
      ]
     },
     "execution_count": 3,
     "metadata": {},
     "output_type": "execute_result"
    }
   ],
   "source": [
    "round(7.9)"
   ]
  },
  {
   "cell_type": "code",
   "execution_count": 4,
   "id": "47fe5472",
   "metadata": {},
   "outputs": [
    {
     "name": "stdout",
     "output_type": "stream",
     "text": [
      "6\n"
     ]
    }
   ],
   "source": [
    "print(round(5.6))"
   ]
  },
  {
   "cell_type": "code",
   "execution_count": 5,
   "id": "8d6568e7",
   "metadata": {},
   "outputs": [
    {
     "name": "stdout",
     "output_type": "stream",
     "text": [
      "A\n"
     ]
    }
   ],
   "source": [
    "print('A')"
   ]
  },
  {
   "cell_type": "code",
   "execution_count": 6,
   "id": "7a733820",
   "metadata": {},
   "outputs": [
    {
     "name": "stdout",
     "output_type": "stream",
     "text": [
      "4.55\n"
     ]
    }
   ],
   "source": [
    "print(round(4.55, 3))"
   ]
  },
  {
   "cell_type": "code",
   "execution_count": 7,
   "id": "b503453b",
   "metadata": {},
   "outputs": [
    {
     "name": "stdout",
     "output_type": "stream",
     "text": [
      "5.6775\n"
     ]
    }
   ],
   "source": [
    "print(round(5.67754,4))"
   ]
  },
  {
   "cell_type": "code",
   "execution_count": 8,
   "id": "79275444",
   "metadata": {},
   "outputs": [
    {
     "name": "stdout",
     "output_type": "stream",
     "text": [
      "5\n"
     ]
    }
   ],
   "source": [
    "print(round(4.556))"
   ]
  },
  {
   "cell_type": "code",
   "execution_count": 9,
   "id": "3aba9ffc",
   "metadata": {},
   "outputs": [
    {
     "name": "stdout",
     "output_type": "stream",
     "text": [
      "4\n"
     ]
    }
   ],
   "source": [
    "print(round(4.345))"
   ]
  },
  {
   "cell_type": "code",
   "execution_count": 10,
   "id": "5b2b3f30",
   "metadata": {},
   "outputs": [
    {
     "name": "stdout",
     "output_type": "stream",
     "text": [
      "4.56\n"
     ]
    }
   ],
   "source": [
    "print(round(4.5567,2))"
   ]
  },
  {
   "cell_type": "code",
   "execution_count": 11,
   "id": "4d512059",
   "metadata": {},
   "outputs": [
    {
     "name": "stdout",
     "output_type": "stream",
     "text": [
      "4.5557\n"
     ]
    }
   ],
   "source": [
    "print(round(4.555667, 4))"
   ]
  },
  {
   "cell_type": "code",
   "execution_count": 12,
   "id": "40be0c03",
   "metadata": {},
   "outputs": [
    {
     "data": {
      "text/plain": [
       "(11, 1)"
      ]
     },
     "execution_count": 12,
     "metadata": {},
     "output_type": "execute_result"
    }
   ],
   "source": [
    "divmod(34,3)"
   ]
  },
  {
   "cell_type": "code",
   "execution_count": 15,
   "id": "ed0b5bec",
   "metadata": {},
   "outputs": [],
   "source": [
    "G = divmod(34,10)"
   ]
  },
  {
   "cell_type": "code",
   "execution_count": 16,
   "id": "341ea9a5",
   "metadata": {},
   "outputs": [],
   "source": [
    "g = divmod(6, 3)"
   ]
  },
  {
   "cell_type": "code",
   "execution_count": 17,
   "id": "a1e627b3",
   "metadata": {},
   "outputs": [
    {
     "name": "stdout",
     "output_type": "stream",
     "text": [
      "(2, 0)\n"
     ]
    }
   ],
   "source": [
    "print(g)"
   ]
  },
  {
   "cell_type": "code",
   "execution_count": 18,
   "id": "677510a6",
   "metadata": {},
   "outputs": [
    {
     "name": "stdout",
     "output_type": "stream",
     "text": [
      "<class 'tuple'>\n"
     ]
    }
   ],
   "source": [
    "print(type(g))"
   ]
  },
  {
   "cell_type": "code",
   "execution_count": 19,
   "id": "c1de783c",
   "metadata": {},
   "outputs": [
    {
     "data": {
      "text/plain": [
       "3"
      ]
     },
     "execution_count": 19,
     "metadata": {},
     "output_type": "execute_result"
    }
   ],
   "source": [
    "34//9"
   ]
  },
  {
   "cell_type": "code",
   "execution_count": 20,
   "id": "40fef1bc",
   "metadata": {},
   "outputs": [
    {
     "data": {
      "text/plain": [
       "7"
      ]
     },
     "execution_count": 20,
     "metadata": {},
     "output_type": "execute_result"
    }
   ],
   "source": [
    "34%9"
   ]
  },
  {
   "cell_type": "code",
   "execution_count": 21,
   "id": "2ff074fd",
   "metadata": {},
   "outputs": [
    {
     "name": "stdout",
     "output_type": "stream",
     "text": [
      "True\n"
     ]
    }
   ],
   "source": [
    "print(isinstance(1, int))"
   ]
  },
  {
   "cell_type": "code",
   "execution_count": 22,
   "id": "4d02368e",
   "metadata": {},
   "outputs": [
    {
     "name": "stdout",
     "output_type": "stream",
     "text": [
      "False\n"
     ]
    }
   ],
   "source": [
    "print(isinstance(2.3, int))"
   ]
  },
  {
   "cell_type": "code",
   "execution_count": 23,
   "id": "03b5e8ab",
   "metadata": {},
   "outputs": [
    {
     "name": "stdout",
     "output_type": "stream",
     "text": [
      "True\n"
     ]
    }
   ],
   "source": [
    "print(isinstance(4.5, float))"
   ]
  },
  {
   "cell_type": "code",
   "execution_count": 24,
   "id": "e864caf0",
   "metadata": {},
   "outputs": [
    {
     "name": "stdout",
     "output_type": "stream",
     "text": [
      "False\n"
     ]
    }
   ],
   "source": [
    "print(isinstance(4.5, str))"
   ]
  },
  {
   "cell_type": "code",
   "execution_count": 25,
   "id": "10845302",
   "metadata": {},
   "outputs": [
    {
     "name": "stdout",
     "output_type": "stream",
     "text": [
      "True\n"
     ]
    }
   ],
   "source": [
    "print(isinstance(3.4, (float, int)))"
   ]
  },
  {
   "cell_type": "code",
   "execution_count": 26,
   "id": "9fed9933",
   "metadata": {},
   "outputs": [
    {
     "name": "stdout",
     "output_type": "stream",
     "text": [
      "True\n"
     ]
    }
   ],
   "source": [
    "print(isinstance(2+4j, (int, float,str, complex)))"
   ]
  },
  {
   "cell_type": "code",
   "execution_count": 27,
   "id": "c6336674",
   "metadata": {},
   "outputs": [
    {
     "name": "stdout",
     "output_type": "stream",
     "text": [
      "16\n"
     ]
    }
   ],
   "source": [
    "print(4**2)"
   ]
  },
  {
   "cell_type": "code",
   "execution_count": 28,
   "id": "8c04d047",
   "metadata": {},
   "outputs": [
    {
     "ename": "NameError",
     "evalue": "name 'power' is not defined",
     "output_type": "error",
     "traceback": [
      "\u001b[1;31m---------------------------------------------------------------------------\u001b[0m",
      "\u001b[1;31mNameError\u001b[0m                                 Traceback (most recent call last)",
      "Cell \u001b[1;32mIn[28], line 1\u001b[0m\n\u001b[1;32m----> 1\u001b[0m power(\u001b[38;5;241m2\u001b[39m,\u001b[38;5;241m4\u001b[39m)\n",
      "\u001b[1;31mNameError\u001b[0m: name 'power' is not defined"
     ]
    }
   ],
   "source": [
    "power(2,4)\n"
   ]
  },
  {
   "cell_type": "code",
   "execution_count": 29,
   "id": "fc5b52c1",
   "metadata": {},
   "outputs": [
    {
     "data": {
      "text/plain": [
       "16"
      ]
     },
     "execution_count": 29,
     "metadata": {},
     "output_type": "execute_result"
    }
   ],
   "source": [
    "pow(2,4)"
   ]
  },
  {
   "cell_type": "code",
   "execution_count": 30,
   "id": "7e10c1ea",
   "metadata": {},
   "outputs": [
    {
     "data": {
      "text/plain": [
       "16"
      ]
     },
     "execution_count": 30,
     "metadata": {},
     "output_type": "execute_result"
    }
   ],
   "source": [
    "2**4"
   ]
  },
  {
   "cell_type": "code",
   "execution_count": 31,
   "id": "d5818865",
   "metadata": {},
   "outputs": [
    {
     "data": {
      "text/plain": [
       "2"
      ]
     },
     "execution_count": 31,
     "metadata": {},
     "output_type": "execute_result"
    }
   ],
   "source": [
    "pow(2,4,7)"
   ]
  },
  {
   "cell_type": "code",
   "execution_count": 32,
   "id": "e0ba1aaa",
   "metadata": {},
   "outputs": [
    {
     "name": "stdout",
     "output_type": "stream",
     "text": [
      "Enter somethingAshmita gurung\n"
     ]
    },
    {
     "data": {
      "text/plain": [
       "'Ashmita gurung'"
      ]
     },
     "execution_count": 32,
     "metadata": {},
     "output_type": "execute_result"
    }
   ],
   "source": [
    "input(\"Enter something\")"
   ]
  },
  {
   "cell_type": "code",
   "execution_count": 33,
   "id": "6c033046",
   "metadata": {},
   "outputs": [
    {
     "name": "stdout",
     "output_type": "stream",
     "text": [
      "Enter a number34\n"
     ]
    }
   ],
   "source": [
    "x = input(\"Enter a number\")"
   ]
  },
  {
   "cell_type": "code",
   "execution_count": 34,
   "id": "2a243066",
   "metadata": {},
   "outputs": [
    {
     "data": {
      "text/plain": [
       "str"
      ]
     },
     "execution_count": 34,
     "metadata": {},
     "output_type": "execute_result"
    }
   ],
   "source": [
    "type(x)"
   ]
  },
  {
   "cell_type": "code",
   "execution_count": 35,
   "id": "2760ed31",
   "metadata": {},
   "outputs": [],
   "source": [
    "x = int(x)"
   ]
  },
  {
   "cell_type": "code",
   "execution_count": null,
   "id": "e1a65eaa",
   "metadata": {},
   "outputs": [],
   "source": []
  },
  {
   "cell_type": "code",
   "execution_count": 36,
   "id": "dabc671d",
   "metadata": {},
   "outputs": [
    {
     "name": "stdout",
     "output_type": "stream",
     "text": [
      "<class 'int'>\n"
     ]
    }
   ],
   "source": [
    "print(type(x))"
   ]
  },
  {
   "cell_type": "code",
   "execution_count": 37,
   "id": "c03fb6a4",
   "metadata": {},
   "outputs": [
    {
     "name": "stdout",
     "output_type": "stream",
     "text": [
      "Variable   Type     Data/Info\n",
      "-----------------------------\n",
      "G          tuple    n=2\n",
      "g          tuple    n=2\n",
      "x          int      34\n"
     ]
    }
   ],
   "source": [
    "%whos"
   ]
  },
  {
   "cell_type": "code",
   "execution_count": 38,
   "id": "a19b284d",
   "metadata": {},
   "outputs": [
    {
     "name": "stdout",
     "output_type": "stream",
     "text": [
      "26\n"
     ]
    }
   ],
   "source": [
    "print(x -8)"
   ]
  },
  {
   "cell_type": "code",
   "execution_count": 39,
   "id": "ef5c3d6a",
   "metadata": {},
   "outputs": [
    {
     "name": "stdout",
     "output_type": "stream",
     "text": [
      "Enter a real number:4.5\n"
     ]
    }
   ],
   "source": [
    "a = float(input('Enter a real number:'))"
   ]
  },
  {
   "cell_type": "code",
   "execution_count": 40,
   "id": "08d5eff1",
   "metadata": {},
   "outputs": [
    {
     "name": "stdout",
     "output_type": "stream",
     "text": [
      "<class 'str'>\n"
     ]
    }
   ],
   "source": [
    "print(type(a))"
   ]
  },
  {
   "cell_type": "code",
   "execution_count": 41,
   "id": "e89847f1",
   "metadata": {},
   "outputs": [
    {
     "name": "stdout",
     "output_type": "stream",
     "text": [
      "enter a real number:abc\n"
     ]
    },
    {
     "ename": "ValueError",
     "evalue": "could not convert string to float: 'abc'",
     "output_type": "error",
     "traceback": [
      "\u001b[1;31m---------------------------------------------------------------------------\u001b[0m",
      "\u001b[1;31mValueError\u001b[0m                                Traceback (most recent call last)",
      "Cell \u001b[1;32mIn[41], line 1\u001b[0m\n\u001b[1;32m----> 1\u001b[0m v \u001b[38;5;241m=\u001b[39m \u001b[38;5;28mfloat\u001b[39m(\u001b[38;5;28minput\u001b[39m(\u001b[38;5;124m\"\u001b[39m\u001b[38;5;124menter a real number:\u001b[39m\u001b[38;5;124m\"\u001b[39m))\n",
      "\u001b[1;31mValueError\u001b[0m: could not convert string to float: 'abc'"
     ]
    }
   ],
   "source": [
    "v = float(input(\"enter a real number:\"))"
   ]
  },
  {
   "cell_type": "code",
   "execution_count": 42,
   "id": "7503d255",
   "metadata": {},
   "outputs": [],
   "source": [
    "pow?\n"
   ]
  },
  {
   "cell_type": "code",
   "execution_count": 43,
   "id": "5a943747",
   "metadata": {},
   "outputs": [],
   "source": [
    "round?\n"
   ]
  },
  {
   "cell_type": "code",
   "execution_count": 44,
   "id": "4aff106b",
   "metadata": {},
   "outputs": [
    {
     "name": "stdout",
     "output_type": "stream",
     "text": [
      "Help on built-in function pow in module builtins:\n",
      "\n",
      "pow(base, exp, mod=None)\n",
      "    Equivalent to base**exp with 2 arguments or base**exp % mod with 3 arguments\n",
      "    \n",
      "    Some types, such as ints, are able to use a more efficient algorithm when\n",
      "    invoked using the three argument form.\n",
      "\n"
     ]
    }
   ],
   "source": [
    "help(pow)"
   ]
  },
  {
   "cell_type": "code",
   "execution_count": 45,
   "id": "2b63e06a",
   "metadata": {},
   "outputs": [
    {
     "name": "stdout",
     "output_type": "stream",
     "text": [
      "Help on method raw_input in module ipykernel.kernelbase:\n",
      "\n",
      "raw_input(prompt='') method of ipykernel.ipkernel.IPythonKernel instance\n",
      "    Forward raw_input to frontends\n",
      "    \n",
      "    Raises\n",
      "    ------\n",
      "    StdinNotImplementedError if active frontend doesn't support stdin.\n",
      "\n"
     ]
    }
   ],
   "source": [
    "help(input)"
   ]
  },
  {
   "cell_type": "markdown",
   "id": "303e30e6",
   "metadata": {},
   "source": [
    "# Functions"
   ]
  },
  {
   "cell_type": "code",
   "execution_count": 1,
   "id": "1f790984",
   "metadata": {},
   "outputs": [],
   "source": [
    "def printSuccess():\n",
    "    print(\"i am done\")\n",
    "    print(\"Send me another task\")"
   ]
  },
  {
   "cell_type": "code",
   "execution_count": 2,
   "id": "1ddf3751",
   "metadata": {},
   "outputs": [
    {
     "name": "stdout",
     "output_type": "stream",
     "text": [
      "i am done\n",
      "Send me another task\n"
     ]
    }
   ],
   "source": [
    "printSuccess()"
   ]
  },
  {
   "cell_type": "code",
   "execution_count": 4,
   "id": "4bb32d93",
   "metadata": {},
   "outputs": [
    {
     "data": {
      "text/plain": [
       "8"
      ]
     },
     "execution_count": 4,
     "metadata": {},
     "output_type": "execute_result"
    }
   ],
   "source": [
    "4+4"
   ]
  },
  {
   "cell_type": "code",
   "execution_count": 5,
   "id": "68a4fc61",
   "metadata": {},
   "outputs": [
    {
     "name": "stdout",
     "output_type": "stream",
     "text": [
      "i am done\n",
      "Send me another task\n"
     ]
    }
   ],
   "source": [
    "printSuccess()"
   ]
  },
  {
   "cell_type": "code",
   "execution_count": 6,
   "id": "ab1fc10e",
   "metadata": {},
   "outputs": [],
   "source": [
    "def printSuccess2():\n",
    "    '''documet string - this function is doing nothing except printing a message.\n",
    "    That message is \"hello\". '''\n",
    "    print(\"hello\")"
   ]
  },
  {
   "cell_type": "code",
   "execution_count": 7,
   "id": "ca1fae68",
   "metadata": {},
   "outputs": [
    {
     "name": "stdout",
     "output_type": "stream",
     "text": [
      "hello\n"
     ]
    }
   ],
   "source": [
    "printSuccess2()"
   ]
  },
  {
   "cell_type": "code",
   "execution_count": 8,
   "id": "5c72b09c",
   "metadata": {},
   "outputs": [
    {
     "name": "stdout",
     "output_type": "stream",
     "text": [
      "i am done\n",
      "Send me another task\n"
     ]
    }
   ],
   "source": [
    "printSuccess()"
   ]
  },
  {
   "cell_type": "code",
   "execution_count": 12,
   "id": "c1d448df",
   "metadata": {},
   "outputs": [],
   "source": [
    "printSuccess??"
   ]
  },
  {
   "cell_type": "code",
   "execution_count": 13,
   "id": "79fabe3a",
   "metadata": {},
   "outputs": [],
   "source": [
    "len??"
   ]
  },
  {
   "cell_type": "code",
   "execution_count": 14,
   "id": "a4444c2b",
   "metadata": {},
   "outputs": [
    {
     "name": "stdout",
     "output_type": "stream",
     "text": [
      "Help on function printSuccess2 in module __main__:\n",
      "\n",
      "printSuccess2()\n",
      "    documet string - this function is doing nothing except printing a message.\n",
      "    That message is \"hello\".\n",
      "\n"
     ]
    }
   ],
   "source": [
    "help(printSuccess2)"
   ]
  },
  {
   "cell_type": "code",
   "execution_count": 15,
   "id": "b421768a",
   "metadata": {},
   "outputs": [
    {
     "name": "stdout",
     "output_type": "stream",
     "text": [
      "Variable        Type        Data/Info\n",
      "-------------------------------------\n",
      "printSuccess    function    <function printSuccess at 0x000001D4A26FF600>\n",
      "printSuccess2   function    <function printSuccess2 at 0x000001D4A26FEA20>\n"
     ]
    }
   ],
   "source": [
    "%whos"
   ]
  },
  {
   "cell_type": "markdown",
   "id": "a090c0f5",
   "metadata": {},
   "source": [
    "# functions (input arguments)"
   ]
  },
  {
   "cell_type": "code",
   "execution_count": 17,
   "id": "2673b979",
   "metadata": {},
   "outputs": [],
   "source": [
    "def printMessage(msg):\n",
    "    '''document string'''\n",
    "    print(msg)\n",
    "    "
   ]
  },
  {
   "cell_type": "code",
   "execution_count": 20,
   "id": "fdc02a9e",
   "metadata": {},
   "outputs": [],
   "source": [
    "def printMsg(msg):\n",
    "    '''the function prints the message supplied by the user or \n",
    "    prints that msg is not in the form of string'''\n",
    "    if isinstance(msg, 'str'):\n",
    "        print(msg)\n",
    "    else:\n",
    "        print(\"Your input argument is not a string\")\n",
    "        print(\"here is the type of what you have supplied\", type(msg))"
   ]
  },
  {
   "cell_type": "code",
   "execution_count": 21,
   "id": "a6bc4b3f",
   "metadata": {},
   "outputs": [
    {
     "ename": "SyntaxError",
     "evalue": "invalid syntax (591209839.py, line 1)",
     "output_type": "error",
     "traceback": [
      "\u001b[1;36m  Cell \u001b[1;32mIn[21], line 1\u001b[1;36m\u001b[0m\n\u001b[1;33m    help(printMessage)?\u001b[0m\n\u001b[1;37m                      ^\u001b[0m\n\u001b[1;31mSyntaxError\u001b[0m\u001b[1;31m:\u001b[0m invalid syntax\n"
     ]
    }
   ],
   "source": [
    "help(printMessage)?"
   ]
  },
  {
   "cell_type": "code",
   "execution_count": 22,
   "id": "1dfdefc1",
   "metadata": {},
   "outputs": [
    {
     "ename": "NameError",
     "evalue": "name 'printMsg' is not defined",
     "output_type": "error",
     "traceback": [
      "\u001b[1;31m---------------------------------------------------------------------------\u001b[0m",
      "\u001b[1;31mNameError\u001b[0m                                 Traceback (most recent call last)",
      "Cell \u001b[1;32mIn[22], line 1\u001b[0m\n\u001b[1;32m----> 1\u001b[0m printMsg(\u001b[38;5;124m\"\u001b[39m\u001b[38;5;124mThis is the message\u001b[39m\u001b[38;5;124m\"\u001b[39m)\n",
      "\u001b[1;31mNameError\u001b[0m: name 'printMsg' is not defined"
     ]
    }
   ],
   "source": [
    "printMsg(\"This is the message\")"
   ]
  },
  {
   "cell_type": "code",
   "execution_count": 25,
   "id": "19c71210",
   "metadata": {},
   "outputs": [
    {
     "ename": "NameError",
     "evalue": "name 'printMsg' is not defined",
     "output_type": "error",
     "traceback": [
      "\u001b[1;31m---------------------------------------------------------------------------\u001b[0m",
      "\u001b[1;31mNameError\u001b[0m                                 Traceback (most recent call last)",
      "Cell \u001b[1;32mIn[25], line 1\u001b[0m\n\u001b[1;32m----> 1\u001b[0m printMsg(\u001b[38;5;124m\"\u001b[39m\u001b[38;5;124mThis is the message\u001b[39m\u001b[38;5;124m\"\u001b[39m)\n",
      "\u001b[1;31mNameError\u001b[0m: name 'printMsg' is not defined"
     ]
    }
   ],
   "source": [
    "printMsg(\"This is the message\")"
   ]
  },
  {
   "cell_type": "code",
   "execution_count": 24,
   "id": "137b7d66",
   "metadata": {},
   "outputs": [
    {
     "ename": "NameError",
     "evalue": "name 'printMsg' is not defined",
     "output_type": "error",
     "traceback": [
      "\u001b[1;31m---------------------------------------------------------------------------\u001b[0m",
      "\u001b[1;31mNameError\u001b[0m                                 Traceback (most recent call last)",
      "Cell \u001b[1;32mIn[24], line 2\u001b[0m\n\u001b[0;32m      1\u001b[0m y \u001b[38;5;241m=\u001b[39m \u001b[38;5;124m'\u001b[39m\u001b[38;5;124mhello there\u001b[39m\u001b[38;5;124m'\u001b[39m\n\u001b[1;32m----> 2\u001b[0m printMsg(y)\n",
      "\u001b[1;31mNameError\u001b[0m: name 'printMsg' is not defined"
     ]
    }
   ],
   "source": [
    "y = 'hello there'\n",
    "printMsg(y)"
   ]
  },
  {
   "cell_type": "code",
   "execution_count": 27,
   "id": "48d20a34",
   "metadata": {},
   "outputs": [],
   "source": [
    "def mypow(a, b):\n",
    "    \"\"\"this function computes power just like built in pow function\n",
    "    \"\"\"\n",
    "    \n",
    "    c = a**b\n",
    "    print(c)"
   ]
  },
  {
   "cell_type": "code",
   "execution_count": 29,
   "id": "226fa56f",
   "metadata": {},
   "outputs": [],
   "source": [
    "mypow?"
   ]
  },
  {
   "cell_type": "code",
   "execution_count": 30,
   "id": "d9ebcb11",
   "metadata": {},
   "outputs": [
    {
     "name": "stdout",
     "output_type": "stream",
     "text": [
      "81\n"
     ]
    }
   ],
   "source": [
    "mypow(3,4)"
   ]
  },
  {
   "cell_type": "code",
   "execution_count": 31,
   "id": "95eb5ca3",
   "metadata": {},
   "outputs": [],
   "source": [
    "def checkArgs(a,b,c):\n",
    "    if isinstance(a,(int,float)) and isinstance(b,(int,float)) and isinstance(c,(int, float)):\n",
    "        print((a+b+c)**2)\n",
    "    else:\n",
    "        print(\"Error: the input arguments are not of the expectde types\")"
   ]
  },
  {
   "cell_type": "code",
   "execution_count": 32,
   "id": "9ea835d7",
   "metadata": {},
   "outputs": [
    {
     "name": "stdout",
     "output_type": "stream",
     "text": [
      "144\n"
     ]
    }
   ],
   "source": [
    "checkArgs(3,4,5)"
   ]
  },
  {
   "cell_type": "code",
   "execution_count": 33,
   "id": "24f7f650",
   "metadata": {},
   "outputs": [
    {
     "name": "stdout",
     "output_type": "stream",
     "text": [
      "Error: the input arguments are not of the expectde types\n"
     ]
    }
   ],
   "source": [
    "checkArgs(3,4,\"G\")"
   ]
  },
  {
   "cell_type": "markdown",
   "id": "12e8ab2e",
   "metadata": {},
   "source": [
    "3checkArgs(2,3,6)"
   ]
  },
  {
   "cell_type": "markdown",
   "id": "7b41b25a",
   "metadata": {},
   "source": [
    "# Functions (Order of input arguments)"
   ]
  },
  {
   "cell_type": "code",
   "execution_count": 36,
   "id": "1c6c37c6",
   "metadata": {},
   "outputs": [],
   "source": [
    "def f(a,b,c):\n",
    "    print(\"A is :\",a)\n",
    "    print(\"B is :\", b)\n",
    "    print(\"c is :\",c)"
   ]
  },
  {
   "cell_type": "code",
   "execution_count": 38,
   "id": "318433d6",
   "metadata": {},
   "outputs": [
    {
     "name": "stdout",
     "output_type": "stream",
     "text": [
      "A is : 2\n",
      "B is : 3\n",
      "c is : Game\n"
     ]
    }
   ],
   "source": [
    "f(2,3,\"Game\")"
   ]
  },
  {
   "cell_type": "code",
   "execution_count": null,
   "id": "6d09a56e",
   "metadata": {},
   "outputs": [],
   "source": []
  }
 ],
 "metadata": {
  "kernelspec": {
   "display_name": "Python 3 (ipykernel)",
   "language": "python",
   "name": "python3"
  },
  "language_info": {
   "codemirror_mode": {
    "name": "ipython",
    "version": 3
   },
   "file_extension": ".py",
   "mimetype": "text/x-python",
   "name": "python",
   "nbconvert_exporter": "python",
   "pygments_lexer": "ipython3",
   "version": "3.11.5"
  }
 },
 "nbformat": 4,
 "nbformat_minor": 5
}
