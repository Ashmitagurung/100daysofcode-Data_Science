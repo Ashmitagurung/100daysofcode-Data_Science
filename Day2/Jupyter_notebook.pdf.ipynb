{
 "cells": [
  {
   "cell_type": "markdown",
   "id": "6d775a90",
   "metadata": {},
   "source": [
    "# Python Basic by Ashmita Gurung"
   ]
  },
  {
   "cell_type": "markdown",
   "id": "2018e74e",
   "metadata": {},
   "source": [
    "Introduction to Python"
   ]
  },
  {
   "cell_type": "code",
   "execution_count": 1,
   "id": "432068b3",
   "metadata": {},
   "outputs": [
    {
     "name": "stdout",
     "output_type": "stream",
     "text": [
      "Hello World!\n"
     ]
    }
   ],
   "source": [
    "print(\"Hello World!\")"
   ]
  },
  {
   "cell_type": "code",
   "execution_count": null,
   "id": "2fe323c2",
   "metadata": {},
   "outputs": [],
   "source": []
  },
  {
   "cell_type": "code",
   "execution_count": 5,
   "id": "f25e65b4",
   "metadata": {},
   "outputs": [
    {
     "name": "stdout",
     "output_type": "stream",
     "text": [
      "Hello, I am learning Python for Data Science\n"
     ]
    }
   ],
   "source": [
    "print('Hello, I am learning Python for Data Science')"
   ]
  },
  {
   "cell_type": "markdown",
   "id": "3a848c18",
   "metadata": {},
   "source": [
    "Variables"
   ]
  },
  {
   "cell_type": "raw",
   "id": "2298b65f",
   "metadata": {},
   "source": [
    "\n",
    "In Python, variables are used to store data values. They act as containers that hold information which can be accessed and manipulated throughout the program.\n",
    "Variable names can consist of letters (a-z, A-Z), digits (0-9), and underscores (_). They cannot start with a digit.\n",
    "Variable names are case-sensitive, meaning myVariable, MyVariable, and myvariable are considered different variables.\n",
    "Variables are assigned values using the = operator.\n"
   ]
  },
  {
   "cell_type": "markdown",
   "id": "7c002b98",
   "metadata": {},
   "source": [
    "Data Types"
   ]
  },
  {
   "cell_type": "raw",
   "id": "fc5757ba",
   "metadata": {},
   "source": [
    "Python is dynamically typed, which means you don't need to explicitly declare the data type of a variable. \n",
    "Common data types include integers (int), floating-point numbers (float), strings (str), booleans (bool), lists (list), tuples (tuple), dictionaries (dict), etc."
   ]
  },
  {
   "cell_type": "code",
   "execution_count": 5,
   "id": "56a0e017",
   "metadata": {},
   "outputs": [
    {
     "data": {
      "text/plain": [
       "str"
      ]
     },
     "execution_count": 5,
     "metadata": {},
     "output_type": "execute_result"
    }
   ],
   "source": [
    "type(\"hello\")"
   ]
  },
  {
   "cell_type": "code",
   "execution_count": 6,
   "id": "f8560959",
   "metadata": {},
   "outputs": [
    {
     "data": {
      "text/plain": [
       "int"
      ]
     },
     "execution_count": 6,
     "metadata": {},
     "output_type": "execute_result"
    }
   ],
   "source": [
    "type(345)"
   ]
  },
  {
   "cell_type": "code",
   "execution_count": 7,
   "id": "0246ec10",
   "metadata": {},
   "outputs": [
    {
     "data": {
      "text/plain": [
       "float"
      ]
     },
     "execution_count": 7,
     "metadata": {},
     "output_type": "execute_result"
    }
   ],
   "source": [
    "type(4.5)"
   ]
  },
  {
   "cell_type": "code",
   "execution_count": 8,
   "id": "60c0d09e",
   "metadata": {},
   "outputs": [
    {
     "data": {
      "text/plain": [
       "bool"
      ]
     },
     "execution_count": 8,
     "metadata": {},
     "output_type": "execute_result"
    }
   ],
   "source": [
    "type(True)"
   ]
  },
  {
   "cell_type": "code",
   "execution_count": 9,
   "id": "4a9ef900",
   "metadata": {},
   "outputs": [
    {
     "data": {
      "text/plain": [
       "str"
      ]
     },
     "execution_count": 9,
     "metadata": {},
     "output_type": "execute_result"
    }
   ],
   "source": [
    "type('Hello + 123')"
   ]
  },
  {
   "cell_type": "code",
   "execution_count": 11,
   "id": "5f43a055",
   "metadata": {},
   "outputs": [
    {
     "data": {
      "text/plain": [
       "(10, 'Ashmita Gurung', 34.4)"
      ]
     },
     "execution_count": 11,
     "metadata": {},
     "output_type": "execute_result"
    }
   ],
   "source": [
    "x = 10\n",
    "y = \"Ashmita Gurung\"\n",
    "z = 34.4\n",
    "x,y,z"
   ]
  },
  {
   "cell_type": "code",
   "execution_count": 16,
   "id": "6acde7cb",
   "metadata": {},
   "outputs": [],
   "source": [
    "student_name = \"Ashmita\""
   ]
  },
  {
   "cell_type": "code",
   "execution_count": 17,
   "id": "3dadc5dc",
   "metadata": {},
   "outputs": [
    {
     "data": {
      "text/plain": [
       "str"
      ]
     },
     "execution_count": 17,
     "metadata": {},
     "output_type": "execute_result"
    }
   ],
   "source": [
    "type(student_name)"
   ]
  },
  {
   "cell_type": "code",
   "execution_count": 18,
   "id": "811c1adf",
   "metadata": {},
   "outputs": [
    {
     "name": "stdout",
     "output_type": "stream",
     "text": [
      "Student name is Ashmita\n"
     ]
    }
   ],
   "source": [
    "print(\"Student name is\", student_name)"
   ]
  },
  {
   "cell_type": "markdown",
   "id": "c1f5a4fa",
   "metadata": {},
   "source": [
    "Operators"
   ]
  },
  {
   "cell_type": "raw",
   "id": "7aa53d88",
   "metadata": {},
   "source": [
    "102 + 37 #Add two numbers with +\n",
    "102 - 37 # Subtract a number with -\n",
    "4 * 6 # Multiply two numbers with *\n",
    "22 / 7 # Divide a number by another with /\n",
    "22 // 7 # Integer divide a number with //\n",
    "3 ** 4 # Raise to the power with **\n",
    "22 % 7 # Returns 1 # Get the remainder  after division with %"
   ]
  },
  {
   "cell_type": "markdown",
   "id": "aca7c484",
   "metadata": {},
   "source": [
    "Assignment Operators"
   ]
  },
  {
   "cell_type": "raw",
   "id": "fd701c8e",
   "metadata": {},
   "source": [
    "a = 5 # Assign a value to a\n",
    "x[0] =1 # Change the value of an item in a list"
   ]
  },
  {
   "cell_type": "markdown",
   "id": "6e037321",
   "metadata": {},
   "source": [
    "Numeric Comparisions Operators"
   ]
  },
  {
   "cell_type": "raw",
   "id": "6a5282e3",
   "metadata": {},
   "source": [
    "3 == 3 # Test for equality with ==\n",
    "3 != 3 # Test for inequality with !=\n",
    "3 > 1 # Test greater than with >\n",
    "3 >= 3 # Test greater than or equal to with >=\n",
    "3 < 4 # Test less than with <\n",
    "3 <= 4 # Test less than or equal to with <="
   ]
  },
  {
   "cell_type": "markdown",
   "id": "5c4a571b",
   "metadata": {},
   "source": [
    "Indexing"
   ]
  },
  {
   "cell_type": "raw",
   "id": "8ab6e2df",
   "metadata": {},
   "source": [
    "The position of every elements placed in the string starts from 0th position ans step by step it ends at length-1 position\n",
    "\n",
    "List is ordered,indexed,mutable and most flexible and dynamic collection of elements in python."
   ]
  },
  {
   "cell_type": "code",
   "execution_count": null,
   "id": "d60ea170",
   "metadata": {},
   "outputs": [],
   "source": [
    "list.index(element)   #index method"
   ]
  },
  {
   "cell_type": "code",
   "execution_count": null,
   "id": "06b2a8e7",
   "metadata": {},
   "outputs": [],
   "source": [
    "list.append(element)  #append method"
   ]
  },
  {
   "cell_type": "code",
   "execution_count": null,
   "id": "55aa054f",
   "metadata": {},
   "outputs": [],
   "source": [
    "list.extend(iterable)   #extend method\n",
    "list.insert(position, element)  #insert method\n",
    "list.pop(position)    #pop method\n",
    "list.remove(element)   #remove list\n",
    "list.count(value)     #count method\n",
    "list.reverse()     #reverse method"
   ]
  },
  {
   "cell_type": "markdown",
   "id": "b48ac8b1",
   "metadata": {},
   "source": [
    "Logical Operators"
   ]
  },
  {
   "cell_type": "raw",
   "id": "44173856",
   "metadata": {},
   "source": [
    "~(2 == 2) # Logical NOT with ~\n",
    "(1 != 1) & (1 < 1) # Logical AND with &\n",
    "(1 >= 1) | (1 < 1) # Logical OR with |\n",
    "(1 != 1) ^ (1 < 1) # Logical XOR with ^"
   ]
  },
  {
   "cell_type": "markdown",
   "id": "b3e77ca8",
   "metadata": {},
   "source": [
    "List functions and methods"
   ]
  },
  {
   "cell_type": "code",
   "execution_count": 21,
   "id": "137bdfd8",
   "metadata": {},
   "outputs": [
    {
     "data": {
      "text/plain": [
       "[1, 2, 3]"
      ]
     },
     "execution_count": 21,
     "metadata": {},
     "output_type": "execute_result"
    }
   ],
   "source": [
    "#Creating list with []\n",
    "x = [1, 2, 3]\n",
    "x"
   ]
  },
  {
   "cell_type": "raw",
   "id": "71b09af3",
   "metadata": {},
   "source": [
    "# Return a sorted copy of the list x\n",
    "sorted(x) # Returns [1, 2, 3]\n",
    "\n",
    "# Sort the list in-place (replaces x)\n",
    "x.sort() # Returns None\n",
    "\n",
    "# Reverse the order of elements in x\n",
    "reversed(x) # Returns [2, 3, 1]\n",
    "\n",
    "# Reverse the list in-place\n",
    "x.reversed() # Returns None\n",
    "\n",
    "# Count the number of element 2 in the list\n",
    "x.count(2)"
   ]
  },
  {
   "cell_type": "markdown",
   "id": "6e2ce0e5",
   "metadata": {},
   "source": [
    "Selecting List Elements"
   ]
  },
  {
   "cell_type": "raw",
   "id": "5c090185",
   "metadata": {},
   "source": [
    "# Define the list \n",
    "x = ['a', 'b', 'c', 'd', 'e']\n",
    "\n",
    "# Select the 0th element in the list\n",
    "x[0] # 'a'\n",
    "\n",
    "# Select the last element in the list\n",
    "x[-1] # 'e'\n",
    "\n",
    "# Select 1st (inclusive) to 3rd (exclusive)\n",
    "x[1:3] # ['b', 'c']\n",
    "\n",
    "# Select the 2nd to the end\n",
    "x[2:] # ['c', 'd', 'e']\n",
    "\n",
    "# Select 0th to 3rd (exclusive)\n",
    "x[:3] # ['a', 'b', 'c']\n"
   ]
  },
  {
   "cell_type": "raw",
   "id": "79bf3cb7",
   "metadata": {},
   "source": [
    "Slicing (String Slicing)\n",
    "\n",
    "Positive Index : 0 ,Negative Index : -1 .String slicing : string[start:Stop:Step] .it stop at stop -1 index .default start index : 0 ,default stop index : last index ,default step : 1"
   ]
  },
  {
   "cell_type": "markdown",
   "id": "14309486",
   "metadata": {},
   "source": [
    "Concatenate Lists"
   ]
  },
  {
   "cell_type": "raw",
   "id": "f84d16c8",
   "metadata": {},
   "source": [
    "# Define the list x and y  \n",
    "x = [1, 3, 6] \n",
    "y = [10, 15, 21]\n",
    "\n",
    "# Concatenate lists with +\n",
    "x + y # [1, 3, 6, 10, 15, 21]\n",
    "\n",
    "# Repeat list n times with *\n",
    "3 * x # [1, 3, 6, 1, 3, 6, 1, 3, 6]"
   ]
  },
  {
   "cell_type": "code",
   "execution_count": null,
   "id": "235cb056",
   "metadata": {},
   "outputs": [],
   "source": []
  },
  {
   "cell_type": "markdown",
   "id": "274c944f",
   "metadata": {},
   "source": [
    "Dictionaries"
   ]
  },
  {
   "cell_type": "raw",
   "id": "785a76c7",
   "metadata": {},
   "source": [
    "# Create a dictionary with {}\n",
    "{'a': 1, 'b': 4, 'c': 9}\n",
    "\n",
    "# Define the dictionary\n",
    "a = {'a': 1, 'b': 2, 'c': 3}\n",
    "\n",
    "# Get the keys\n",
    "x.keys() # dict_keys(['a', 'b', 'c'])\n",
    "\n",
    "# Get  the values\n",
    "x.values() # dict_values([1, 2, 3])\n",
    "\n",
    "# Get a value from a dictionary by specifying the key\n",
    "x['a'] # 1"
   ]
  },
  {
   "cell_type": "markdown",
   "id": "fff688e7",
   "metadata": {},
   "source": [
    "Sets"
   ]
  },
  {
   "cell_type": "raw",
   "id": "9f03f2ba",
   "metadata": {},
   "source": [
    "Sets are unordered collections of unique elements. They are defined using curly braces {}.\n",
    "Sets are mutable, meaning you can add or remove elements from a set after its creation."
   ]
  },
  {
   "cell_type": "raw",
   "id": "3ced8024",
   "metadata": {},
   "source": [
    "# Creating a set\n",
    "my_set = {1, 2, 3, 4, 5}\n",
    "\n",
    "# Adding elements to a set\n",
    "my_set.add(6)\n",
    "my_set.add(2)  # This will not add 2 again as it's already in the set\n",
    "\n",
    "# Removing elements from a set\n",
    "my_set.remove(3)\n",
    "\n",
    "# Set operations\n",
    "set1 = {1, 2, 3}\n",
    "set2 = {3, 4, 5}\n",
    "\n"
   ]
  },
  {
   "cell_type": "markdown",
   "id": "a8fe24ed",
   "metadata": {},
   "source": [
    "Tuple"
   ]
  },
  {
   "cell_type": "raw",
   "id": "2f71a61e",
   "metadata": {},
   "source": [
    "Tuples are ordered collections of elements, and they are defined using parentheses ().\n",
    "Tuples can contain duplicate elements, and they are immutable, meaning once a tuple is created, you cannot modify its elements."
   ]
  },
  {
   "cell_type": "raw",
   "id": "c3d3abcc",
   "metadata": {},
   "source": [
    "# Creating a tuple\n",
    "my_tuple = (1, 2, 3, 4, 5)\n",
    "\n",
    "# Accessing elements of a tuple\n",
    "print(my_tuple[0])  # Output: 1\n",
    "print(my_tuple[2])  # Output: 3\n",
    "\n",
    "# Tuples are immutable - this will raise an error\n",
    "# my_tuple[0] = 10\n",
    "\n"
   ]
  },
  {
   "cell_type": "code",
   "execution_count": null,
   "id": "0756726c",
   "metadata": {},
   "outputs": [],
   "source": []
  }
 ],
 "metadata": {
  "kernelspec": {
   "display_name": "Python 3 (ipykernel)",
   "language": "python",
   "name": "python3"
  },
  "language_info": {
   "codemirror_mode": {
    "name": "ipython",
    "version": 3
   },
   "file_extension": ".py",
   "mimetype": "text/x-python",
   "name": "python",
   "nbconvert_exporter": "python",
   "pygments_lexer": "ipython3",
   "version": "3.11.5"
  }
 },
 "nbformat": 4,
 "nbformat_minor": 5
}
