{
  "nbformat": 4,
  "nbformat_minor": 0,
  "metadata": {
    "colab": {
      "provenance": []
    },
    "kernelspec": {
      "name": "python3",
      "display_name": "Python 3"
    },
    "language_info": {
      "name": "python"
    }
  },
  "cells": [
    {
      "cell_type": "markdown",
      "source": [
        "Python"
      ],
      "metadata": {
        "id": "9R2orOJFmL-J"
      }
    },
    {
      "cell_type": "markdown",
      "source": [
        "Conditional Statements"
      ],
      "metadata": {
        "id": "2vBrRHVgoKZB"
      }
    },
    {
      "cell_type": "code",
      "source": [
        "# The if, elif and else statements are the conditional statements in Python, and these implement selection constructs (decision constructs)."
      ],
      "metadata": {
        "id": "3aSJsu61mQZ4"
      },
      "execution_count": null,
      "outputs": []
    },
    {
      "cell_type": "markdown",
      "source": [
        "If Statement\n",
        "- if(conditional expression):\n",
        "    statements\n",
        "\n",
        "if-else Statement\n",
        "if(conditional expression):\n",
        "    statements\n",
        "else:\n",
        "    statements\n",
        "\n",
        "if-elif Statement\n",
        "if (conditional expression):\n",
        "    statements\n",
        "elif (conditional expression):\n",
        "    statements\n",
        "else:\n",
        "    statements\n",
        "\n",
        "Nested if-else Statement\n",
        "if (conditional expression):\n",
        "    if (conditional expression):\n",
        "        statements\n",
        "    else:\n",
        "        statements\n",
        "else:\n",
        "    statements\n"
      ],
      "metadata": {
        "id": "fLCQEdiboZSb"
      }
    },
    {
      "cell_type": "code",
      "source": [
        "a = 15\n",
        "b = 20\n",
        "c = 12\n",
        "if(a>b and a>c):\n",
        "  print(a, \"is greatest\")\n",
        "elif(b>c and b>a):\n",
        "  print(b, \"is greatest\")\n",
        "else:\n",
        "  print(c, \"is greatest\")\n",
        "\n"
      ],
      "metadata": {
        "colab": {
          "base_uri": "https://localhost:8080/"
        },
        "id": "z0_qiIsyo5Uf",
        "outputId": "11d1f997-e38d-48b2-bc04-e00da59ead1c"
      },
      "execution_count": null,
      "outputs": [
        {
          "output_type": "stream",
          "name": "stdout",
          "text": [
            "20 is greatest\n"
          ]
        }
      ]
    },
    {
      "cell_type": "code",
      "source": [
        "#Program to check voting eligibility\n",
        "age = int(input(\"Please enter your age\"))\n",
        "if age>=18:\n",
        "  print(\"You are eligible\")\n",
        "else:\n",
        "  print(\"You are not eligible\")\n",
        "\n",
        "\n"
      ],
      "metadata": {
        "colab": {
          "base_uri": "https://localhost:8080/"
        },
        "id": "ao9vqgevo5Wv",
        "outputId": "3a24cae2-3dcf-4ac7-e471-d525f7b2795f"
      },
      "execution_count": null,
      "outputs": [
        {
          "output_type": "stream",
          "name": "stdout",
          "text": [
            "Please enter your age23\n",
            "You are eligible\n"
          ]
        }
      ]
    },
    {
      "cell_type": "code",
      "source": [
        "\n",
        "age=input(\"Please enter your age\")\n",
        "if age.isdigit():\n",
        "    if int(age)>=21:\n",
        "        print(\"You are eligible to vote\")\n",
        "    else:\n",
        "        print(\"You are not eligible to vote\")\n",
        "else :\n",
        "    print(\"Invalid input\")\n"
      ],
      "metadata": {
        "id": "AmS-YyPso5aG",
        "colab": {
          "base_uri": "https://localhost:8080/"
        },
        "outputId": "39d10b32-c73d-4089-b8d5-3979b6b1d3d0"
      },
      "execution_count": null,
      "outputs": [
        {
          "output_type": "stream",
          "name": "stdout",
          "text": [
            "Please enter your age12\n",
            "You are not eligible to vote\n"
          ]
        }
      ]
    },
    {
      "cell_type": "code",
      "source": [
        "#Program to assign a grade on the basis of marks\n",
        "\n",
        "marks = int(input(\"Please enter marks\"))\n",
        "if marks>=90:\n",
        "  print(\"Distinction\")\n",
        "elif marks>=80:\n",
        "  print(\"First Division\")\n",
        "elif marks>=70:\n",
        "  print(\"Second Division\")\n",
        "elif marks>=60:\n",
        "  print(\"Third Division\")\n",
        "else:\n",
        "  print(\"Failed\")"
      ],
      "metadata": {
        "colab": {
          "base_uri": "https://localhost:8080/"
        },
        "id": "xlVcBGccrmIJ",
        "outputId": "000cca58-b85f-43b0-b1e9-68c37af6b178"
      },
      "execution_count": null,
      "outputs": [
        {
          "output_type": "stream",
          "name": "stdout",
          "text": [
            "Please enter marks100\n",
            "Distinction\n"
          ]
        }
      ]
    },
    {
      "cell_type": "code",
      "source": [
        "#Problem\n",
        "\n",
        "num = int(input('Enter any number: '))\n",
        "\n",
        "output='The most brilliant '\n",
        "if(num%2 == 0):\n",
        "  output = output + \"Exciting\"\n",
        "if(num%3 == 0):\n",
        "  output = output+ 'fantastic'\n",
        "if(num%4 == 0):\n",
        "  output = output + \"virtuous\"\n",
        "if(num%5 == 0):\n",
        "   output = output + \"heart-warming\"\n",
        "if(num%6 == 0):\n",
        "   output = output + \"tear-jerking\"\n",
        "if(num%7 == 0):\n",
        "   output = output + \"beautiful\"\n",
        "if num%8 == 0:\n",
        "    output= output + \" exhilarating\"\n",
        "if num%9 == 0:\n",
        "    output= output + \" emotional\"\n",
        "if num%10 == 0:\n",
        "  output = output + \"inspiring\"\n",
        "\n",
        "output = output + \" inspiring\"\n",
        "output = output +\" num is \"+ str(num)\n",
        "print(output)\n"
      ],
      "metadata": {
        "colab": {
          "base_uri": "https://localhost:8080/"
        },
        "id": "fYuvVQV0sQ3R",
        "outputId": "f094a843-ac8b-4d1e-a8e4-d4fec607457c"
      },
      "execution_count": null,
      "outputs": [
        {
          "output_type": "stream",
          "name": "stdout",
          "text": [
            "Enter any number: 5\n",
            "The most brilliant heart-warming inspiring num is 5\n"
          ]
        }
      ]
    },
    {
      "cell_type": "markdown",
      "source": [
        "Loop"
      ],
      "metadata": {
        "id": "pVEL8AXEoYFr"
      }
    },
    {
      "cell_type": "code",
      "source": [],
      "metadata": {
        "id": "gbvQlABXu0dR"
      },
      "execution_count": null,
      "outputs": []
    },
    {
      "cell_type": "markdown",
      "source": [
        "Loops in Python - A loop or iteration statement repeatedly executes a statement, known as the loop body, until the controlling expression is false (0)."
      ],
      "metadata": {
        "id": "yYrzysQ1JlFt"
      }
    },
    {
      "cell_type": "code",
      "source": [],
      "metadata": {
        "id": "Sady-WEdKESk"
      },
      "execution_count": null,
      "outputs": []
    }
  ]
}