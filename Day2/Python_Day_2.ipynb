{
  "nbformat": 4,
  "nbformat_minor": 0,
  "metadata": {
    "colab": {
      "provenance": []
    },
    "kernelspec": {
      "name": "python3",
      "display_name": "Python 3"
    },
    "language_info": {
      "name": "python"
    }
  },
  "cells": [
    {
      "cell_type": "markdown",
      "source": [
        "Python"
      ],
      "metadata": {
        "id": "9R2orOJFmL-J"
      }
    },
    {
      "cell_type": "markdown",
      "source": [
        "Conditional Statements"
      ],
      "metadata": {
        "id": "2vBrRHVgoKZB"
      }
    },
    {
      "cell_type": "code",
      "source": [
        "# The if, elif and else statements are the conditional statements in Python, and these implement selection constructs (decision constructs)."
      ],
      "metadata": {
        "id": "3aSJsu61mQZ4"
      },
      "execution_count": null,
      "outputs": []
    },
    {
      "cell_type": "markdown",
      "source": [
        "If Statement\n",
        "- if(conditional expression):\n",
        "    statements\n",
        "\n",
        "if-else Statement\n",
        "if(conditional expression):\n",
        "    statements\n",
        "else:\n",
        "    statements\n",
        "\n",
        "if-elif Statement\n",
        "if (conditional expression):\n",
        "    statements\n",
        "elif (conditional expression):\n",
        "    statements\n",
        "else:\n",
        "    statements\n",
        "\n",
        "Nested if-else Statement\n",
        "if (conditional expression):\n",
        "    if (conditional expression):\n",
        "        statements\n",
        "    else:\n",
        "        statements\n",
        "else:\n",
        "    statements\n"
      ],
      "metadata": {
        "id": "fLCQEdiboZSb"
      }
    },
    {
      "cell_type": "code",
      "source": [
        "a = 15\n",
        "b = 20\n",
        "c = 12\n",
        "if(a>b and a>c):\n",
        "  print(a, \"is greatest\")\n",
        "elif(b>c and b>a):\n",
        "  print(b, \"is greatest\")\n",
        "else:\n",
        "  print(c, \"is greatest\")\n",
        "\n"
      ],
      "metadata": {
        "colab": {
          "base_uri": "https://localhost:8080/"
        },
        "id": "z0_qiIsyo5Uf",
        "outputId": "11d1f997-e38d-48b2-bc04-e00da59ead1c"
      },
      "execution_count": null,
      "outputs": [
        {
          "output_type": "stream",
          "name": "stdout",
          "text": [
            "20 is greatest\n"
          ]
        }
      ]
    },
    {
      "cell_type": "code",
      "source": [
        "#Program to check voting eligibility\n",
        "age = int(input(\"Please enter your age\"))\n",
        "if age>=18:\n",
        "  print(\"You are eligible\")\n",
        "else:\n",
        "  print(\"You are not eligible\")\n",
        "\n",
        "\n"
      ],
      "metadata": {
        "colab": {
          "base_uri": "https://localhost:8080/"
        },
        "id": "ao9vqgevo5Wv",
        "outputId": "3a24cae2-3dcf-4ac7-e471-d525f7b2795f"
      },
      "execution_count": null,
      "outputs": [
        {
          "output_type": "stream",
          "name": "stdout",
          "text": [
            "Please enter your age23\n",
            "You are eligible\n"
          ]
        }
      ]
    },
    {
      "cell_type": "code",
      "source": [
        "\n",
        "age=input(\"Please enter your age\")\n",
        "if age.isdigit():\n",
        "    if int(age)>=21:\n",
        "        print(\"You are eligible to vote\")\n",
        "    else:\n",
        "        print(\"You are not eligible to vote\")\n",
        "else :\n",
        "    print(\"Invalid input\")\n"
      ],
      "metadata": {
        "id": "AmS-YyPso5aG",
        "colab": {
          "base_uri": "https://localhost:8080/"
        },
        "outputId": "39d10b32-c73d-4089-b8d5-3979b6b1d3d0"
      },
      "execution_count": null,
      "outputs": [
        {
          "output_type": "stream",
          "name": "stdout",
          "text": [
            "Please enter your age12\n",
            "You are not eligible to vote\n"
          ]
        }
      ]
    },
    {
      "cell_type": "code",
      "source": [
        "#Program to assign a grade on the basis of marks\n",
        "\n",
        "marks = int(input(\"Please enter marks\"))\n",
        "if marks>=90:\n",
        "  print(\"Distinction\")\n",
        "elif marks>=80:\n",
        "  print(\"First Division\")\n",
        "elif marks>=70:\n",
        "  print(\"Second Division\")\n",
        "elif marks>=60:\n",
        "  print(\"Third Division\")\n",
        "else:\n",
        "  print(\"Failed\")"
      ],
      "metadata": {
        "colab": {
          "base_uri": "https://localhost:8080/"
        },
        "id": "xlVcBGccrmIJ",
        "outputId": "000cca58-b85f-43b0-b1e9-68c37af6b178"
      },
      "execution_count": null,
      "outputs": [
        {
          "output_type": "stream",
          "name": "stdout",
          "text": [
            "Please enter marks100\n",
            "Distinction\n"
          ]
        }
      ]
    },
    {
      "cell_type": "code",
      "source": [
        "#Problem\n",
        "\n",
        "num = int(input('Enter any number: '))\n",
        "\n",
        "output='The most brilliant '\n",
        "if(num%2 == 0):\n",
        "  output = output + \"Exciting\"\n",
        "if(num%3 == 0):\n",
        "  output = output+ 'fantastic'\n",
        "if(num%4 == 0):\n",
        "  output = output + \"virtuous\"\n",
        "if(num%5 == 0):\n",
        "   output = output + \"heart-warming\"\n",
        "if(num%6 == 0):\n",
        "   output = output + \"tear-jerking\"\n",
        "if(num%7 == 0):\n",
        "   output = output + \"beautiful\"\n",
        "if num%8 == 0:\n",
        "    output= output + \" exhilarating\"\n",
        "if num%9 == 0:\n",
        "    output= output + \" emotional\"\n",
        "if num%10 == 0:\n",
        "  output = output + \"inspiring\"\n",
        "\n",
        "output = output + \" inspiring\"\n",
        "output = output +\" num is \"+ str(num)\n",
        "print(output)\n"
      ],
      "metadata": {
        "colab": {
          "base_uri": "https://localhost:8080/"
        },
        "id": "fYuvVQV0sQ3R",
        "outputId": "f094a843-ac8b-4d1e-a8e4-d4fec607457c"
      },
      "execution_count": null,
      "outputs": [
        {
          "output_type": "stream",
          "name": "stdout",
          "text": [
            "Enter any number: 5\n",
            "The most brilliant heart-warming inspiring num is 5\n"
          ]
        }
      ]
    },
    {
      "cell_type": "markdown",
      "source": [
        "Loop"
      ],
      "metadata": {
        "id": "pVEL8AXEoYFr"
      }
    },
    {
      "cell_type": "markdown",
      "source": [
        "Loops in Python - A loop or iteration statement repeatedly executes a statement, known as the loop body, until the controlling expression is false (0)."
      ],
      "metadata": {
        "id": "yYrzysQ1JlFt"
      }
    },
    {
      "cell_type": "code",
      "source": [
        "# For Loop\n",
        "\n",
        "# for <variable> in <sequence>:\n",
        "    # statements_to_repeat"
      ],
      "metadata": {
        "id": "Sady-WEdKESk"
      },
      "execution_count": 1,
      "outputs": []
    },
    {
      "cell_type": "code",
      "source": [
        "for i in range(1, 100,1):\n",
        "  print(i)"
      ],
      "metadata": {
        "id": "gOiXpvcvYog9"
      },
      "execution_count": null,
      "outputs": []
    },
    {
      "cell_type": "code",
      "source": [
        "# While Loop\n",
        "# A while loop is a conditional loop that will repeat the instructions within itself as long as a conditional remains true."
      ],
      "metadata": {
        "id": "Q5EsswArYuuZ"
      },
      "execution_count": 4,
      "outputs": []
    },
    {
      "cell_type": "code",
      "source": [
        "# while <logical-expression>:\n",
        "#     loop-body"
      ],
      "metadata": {
        "id": "xJEm-kyhZCbi"
      },
      "execution_count": 5,
      "outputs": []
    },
    {
      "cell_type": "code",
      "source": [
        "i=1\n",
        "while(i<=100):\n",
        "        print(i)\n",
        "        i=i+1"
      ],
      "metadata": {
        "id": "BYmKiYQlZF1m"
      },
      "execution_count": null,
      "outputs": []
    },
    {
      "cell_type": "code",
      "source": [
        "# Break Statement\n",
        "# - The break statement enables a program to skip over a part of the code. A break statement terminates the very loop it lies within."
      ],
      "metadata": {
        "id": "6-8kpojIZJfq"
      },
      "execution_count": null,
      "outputs": []
    },
    {
      "cell_type": "code",
      "source": [
        "# for <var> in <sequence>:\n",
        "#     statement1\n",
        "#     if <condition>:\n",
        "#         break\n",
        "#     statement2\n",
        "# statement_after_loop"
      ],
      "metadata": {
        "id": "24Wc4F45ZJwa"
      },
      "execution_count": 7,
      "outputs": []
    },
    {
      "cell_type": "code",
      "source": [
        "for i in range(1,101,1):\n",
        "    print(i ,end=\" \")\n",
        "    if(i==50):\n",
        "        break\n",
        "    else:\n",
        "        print(\"Mississippi\")\n",
        "print(\"Thank you\")\n",
        "\n",
        ""
      ],
      "metadata": {
        "colab": {
          "base_uri": "https://localhost:8080/"
        },
        "id": "Wukssk14ZS9l",
        "outputId": "cbc9502e-4228-46ce-b5b5-6e160669a2f9"
      },
      "execution_count": 8,
      "outputs": [
        {
          "output_type": "stream",
          "name": "stdout",
          "text": [
            "1 Mississippi\n",
            "2 Mississippi\n",
            "3 Mississippi\n",
            "4 Mississippi\n",
            "5 Mississippi\n",
            "6 Mississippi\n",
            "7 Mississippi\n",
            "8 Mississippi\n",
            "9 Mississippi\n",
            "10 Mississippi\n",
            "11 Mississippi\n",
            "12 Mississippi\n",
            "13 Mississippi\n",
            "14 Mississippi\n",
            "15 Mississippi\n",
            "16 Mississippi\n",
            "17 Mississippi\n",
            "18 Mississippi\n",
            "19 Mississippi\n",
            "20 Mississippi\n",
            "21 Mississippi\n",
            "22 Mississippi\n",
            "23 Mississippi\n",
            "24 Mississippi\n",
            "25 Mississippi\n",
            "26 Mississippi\n",
            "27 Mississippi\n",
            "28 Mississippi\n",
            "29 Mississippi\n",
            "30 Mississippi\n",
            "31 Mississippi\n",
            "32 Mississippi\n",
            "33 Mississippi\n",
            "34 Mississippi\n",
            "35 Mississippi\n",
            "36 Mississippi\n",
            "37 Mississippi\n",
            "38 Mississippi\n",
            "39 Mississippi\n",
            "40 Mississippi\n",
            "41 Mississippi\n",
            "42 Mississippi\n",
            "43 Mississippi\n",
            "44 Mississippi\n",
            "45 Mississippi\n",
            "46 Mississippi\n",
            "47 Mississippi\n",
            "48 Mississippi\n",
            "49 Mississippi\n",
            "50 Thank you\n"
          ]
        }
      ]
    },
    {
      "cell_type": "code",
      "source": [
        "for i in range(10):\n",
        "    if (i==5):\n",
        "        break\n",
        "    print(i)"
      ],
      "metadata": {
        "colab": {
          "base_uri": "https://localhost:8080/"
        },
        "id": "aFlQ10rQZVFu",
        "outputId": "1802ab60-094e-4db4-f0d6-6cebf1d4e7a8"
      },
      "execution_count": 10,
      "outputs": [
        {
          "output_type": "stream",
          "name": "stdout",
          "text": [
            "0\n",
            "1\n",
            "2\n",
            "3\n",
            "4\n"
          ]
        }
      ]
    },
    {
      "cell_type": "markdown",
      "source": [
        "Continue Statement\n",
        "- The continue statement skips the rest of the loop statements and causes the next iteration to occur."
      ],
      "metadata": {
        "id": "YNVRJ_ilZauU"
      }
    },
    {
      "cell_type": "code",
      "source": [
        "# for <var> in <sequence>:\n",
        "#     statement1\n",
        "#     if <condition> :\n",
        "#         continue\n",
        "#     statement2\n",
        "#     statement3\n",
        "#     statement"
      ],
      "metadata": {
        "id": "tIsAkiH6ZhBl"
      },
      "execution_count": null,
      "outputs": []
    },
    {
      "cell_type": "code",
      "source": [
        "for i in [2,3,4,6,8,0]:\n",
        "    if (i%2!=0):\n",
        "        continue\n",
        "    print(i)"
      ],
      "metadata": {
        "colab": {
          "base_uri": "https://localhost:8080/"
        },
        "id": "wRtKVHS7ZnO_",
        "outputId": "b2c0fb9b-37b9-4104-abb9-d103ce53db72"
      },
      "execution_count": 9,
      "outputs": [
        {
          "output_type": "stream",
          "name": "stdout",
          "text": [
            "2\n",
            "4\n",
            "6\n",
            "8\n",
            "0\n"
          ]
        }
      ]
    },
    {
      "cell_type": "code",
      "source": [
        "import random\n",
        "\n",
        "a=random.randint(1,10)\n",
        "count=1\n",
        "\n",
        "for i in range(10):\n",
        "    ans=int(input(\"Guess a number Between 1 and 10:\"))\n",
        "    if (ans==a):\n",
        "        break\n",
        "    count+=1\n",
        "\n",
        "print(\"You guessed it right in {} guess, number was {}\".format(count,a))"
      ],
      "metadata": {
        "colab": {
          "base_uri": "https://localhost:8080/"
        },
        "id": "Gbr33CZZZpSB",
        "outputId": "d4175db8-53f2-44df-eff1-3469720c2413"
      },
      "execution_count": null,
      "outputs": [
        {
          "name": "stdout",
          "output_type": "stream",
          "text": [
            "Guess a number Between 1 and 10:3\n",
            "Guess a number Between 1 and 10:5\n",
            "Guess a number Between 1 and 10:1\n"
          ]
        }
      ]
    },
    {
      "cell_type": "code",
      "source": [],
      "metadata": {
        "id": "DCIuTfwXaQI-"
      },
      "execution_count": null,
      "outputs": []
    }
  ]
}